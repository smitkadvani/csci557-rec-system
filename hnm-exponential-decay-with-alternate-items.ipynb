{
 "cells": [
  {
   "cell_type": "markdown",
   "id": "82f72273",
   "metadata": {
    "_cell_guid": "b1076dfc-b9ad-4769-8c92-a6c4dae69d19",
    "_uuid": "8f2839f25d086af736a60e9eeb907d3b93b6e0e5",
    "papermill": {
     "duration": 0.020976,
     "end_time": "2022-03-01T14:33:04.236226",
     "exception": false,
     "start_time": "2022-03-01T14:33:04.215250",
     "status": "completed"
    },
    "tags": []
   },
   "source": [
    "# H&M Recommendation: Popularity Baseline\n",
    "\n",
    "Based on the work of https://www.kaggle.com/mayukh18/time-decaying-popularity-benchmark-0-0216"
   ]
  },
  {
   "cell_type": "code",
   "execution_count": 1,
   "id": "6f74fae6",
   "metadata": {
    "execution": {
     "iopub.execute_input": "2022-03-01T14:33:04.283540Z",
     "iopub.status.busy": "2022-03-01T14:33:04.282492Z",
     "iopub.status.idle": "2022-03-01T14:33:04.287144Z",
     "shell.execute_reply": "2022-03-01T14:33:04.287581Z"
    },
    "papermill": {
     "duration": 0.032572,
     "end_time": "2022-03-01T14:33:04.287926",
     "exception": false,
     "start_time": "2022-03-01T14:33:04.255354",
     "status": "completed"
    },
    "tags": []
   },
   "outputs": [],
   "source": [
    "import numpy as np\n",
    "import pandas as pd\n",
    "import os\n",
    "import glob\n",
    "#import reco\n",
    "from tqdm import tqdm\n",
    "import datetime\n",
    "import gc\n",
    "import random"
   ]
  },
  {
   "cell_type": "markdown",
   "id": "4277bbaf",
   "metadata": {
    "papermill": {
     "duration": 0.018756,
     "end_time": "2022-03-01T14:33:04.325999",
     "exception": false,
     "start_time": "2022-03-01T14:33:04.307243",
     "status": "completed"
    },
    "tags": []
   },
   "source": [
    "### Forming Train Set"
   ]
  },
  {
   "cell_type": "code",
   "execution_count": 2,
   "id": "6ba75339",
   "metadata": {
    "execution": {
     "iopub.execute_input": "2022-03-01T14:33:04.368602Z",
     "iopub.status.busy": "2022-03-01T14:33:04.367858Z",
     "iopub.status.idle": "2022-03-01T14:34:12.984698Z",
     "shell.execute_reply": "2022-03-01T14:34:12.985284Z"
    },
    "papermill": {
     "duration": 68.640825,
     "end_time": "2022-03-01T14:34:12.985492",
     "exception": false,
     "start_time": "2022-03-01T14:33:04.344667",
     "status": "completed"
    },
    "tags": []
   },
   "outputs": [
    {
     "data": {
      "text/html": [
       "<div>\n",
       "<style scoped>\n",
       "    .dataframe tbody tr th:only-of-type {\n",
       "        vertical-align: middle;\n",
       "    }\n",
       "\n",
       "    .dataframe tbody tr th {\n",
       "        vertical-align: top;\n",
       "    }\n",
       "\n",
       "    .dataframe thead th {\n",
       "        text-align: right;\n",
       "    }\n",
       "</style>\n",
       "<table border=\"1\" class=\"dataframe\">\n",
       "  <thead>\n",
       "    <tr style=\"text-align: right;\">\n",
       "      <th></th>\n",
       "      <th>t_dat</th>\n",
       "      <th>customer_id</th>\n",
       "      <th>article_id</th>\n",
       "      <th>price</th>\n",
       "      <th>sales_channel_id</th>\n",
       "    </tr>\n",
       "  </thead>\n",
       "  <tbody>\n",
       "    <tr>\n",
       "      <th>0</th>\n",
       "      <td>2018-09-20</td>\n",
       "      <td>000058a12d5b43e67d225668fa1f8d618c13dc232df0ca...</td>\n",
       "      <td>0663713001</td>\n",
       "      <td>0.050831</td>\n",
       "      <td>2</td>\n",
       "    </tr>\n",
       "    <tr>\n",
       "      <th>1</th>\n",
       "      <td>2018-09-20</td>\n",
       "      <td>000058a12d5b43e67d225668fa1f8d618c13dc232df0ca...</td>\n",
       "      <td>0541518023</td>\n",
       "      <td>0.030492</td>\n",
       "      <td>2</td>\n",
       "    </tr>\n",
       "    <tr>\n",
       "      <th>2</th>\n",
       "      <td>2018-09-20</td>\n",
       "      <td>00007d2de826758b65a93dd24ce629ed66842531df6699...</td>\n",
       "      <td>0505221004</td>\n",
       "      <td>0.015237</td>\n",
       "      <td>2</td>\n",
       "    </tr>\n",
       "    <tr>\n",
       "      <th>3</th>\n",
       "      <td>2018-09-20</td>\n",
       "      <td>00007d2de826758b65a93dd24ce629ed66842531df6699...</td>\n",
       "      <td>0685687003</td>\n",
       "      <td>0.016932</td>\n",
       "      <td>2</td>\n",
       "    </tr>\n",
       "    <tr>\n",
       "      <th>4</th>\n",
       "      <td>2018-09-20</td>\n",
       "      <td>00007d2de826758b65a93dd24ce629ed66842531df6699...</td>\n",
       "      <td>0685687004</td>\n",
       "      <td>0.016932</td>\n",
       "      <td>2</td>\n",
       "    </tr>\n",
       "  </tbody>\n",
       "</table>\n",
       "</div>"
      ],
      "text/plain": [
       "        t_dat                                        customer_id  article_id  \\\n",
       "0  2018-09-20  000058a12d5b43e67d225668fa1f8d618c13dc232df0ca...  0663713001   \n",
       "1  2018-09-20  000058a12d5b43e67d225668fa1f8d618c13dc232df0ca...  0541518023   \n",
       "2  2018-09-20  00007d2de826758b65a93dd24ce629ed66842531df6699...  0505221004   \n",
       "3  2018-09-20  00007d2de826758b65a93dd24ce629ed66842531df6699...  0685687003   \n",
       "4  2018-09-20  00007d2de826758b65a93dd24ce629ed66842531df6699...  0685687004   \n",
       "\n",
       "      price  sales_channel_id  \n",
       "0  0.050831                 2  \n",
       "1  0.030492                 2  \n",
       "2  0.015237                 2  \n",
       "3  0.016932                 2  \n",
       "4  0.016932                 2  "
      ]
     },
     "execution_count": 2,
     "metadata": {},
     "output_type": "execute_result"
    }
   ],
   "source": [
    "data = pd.read_csv(\"../input/h-and-m-personalized-fashion-recommendations/transactions_train.csv\", \n",
    "                   dtype={'article_id':str}\n",
    "                  )\n",
    "data.head()"
   ]
  },
  {
   "cell_type": "markdown",
   "id": "a373c964",
   "metadata": {
    "papermill": {
     "duration": 0.01936,
     "end_time": "2022-03-01T14:34:13.027876",
     "exception": false,
     "start_time": "2022-03-01T14:34:13.008516",
     "status": "completed"
    },
    "tags": []
   },
   "source": [
    "We'll drop everything except the last few(up for experimentation) days. The info from previous months are not coming of much use. \n",
    "We'll keep 4 weeks as train and the last week as validation."
   ]
  },
  {
   "cell_type": "code",
   "execution_count": 3,
   "id": "7e17b603",
   "metadata": {
    "execution": {
     "iopub.execute_input": "2022-03-01T14:34:14.309445Z",
     "iopub.status.busy": "2022-03-01T14:34:14.308742Z",
     "iopub.status.idle": "2022-03-01T14:34:22.945534Z",
     "shell.execute_reply": "2022-03-01T14:34:22.944788Z"
    },
    "papermill": {
     "duration": 9.898522,
     "end_time": "2022-03-01T14:34:22.945692",
     "exception": false,
     "start_time": "2022-03-01T14:34:13.047170",
     "status": "completed"
    },
    "tags": []
   },
   "outputs": [
    {
     "name": "stdout",
     "output_type": "stream",
     "text": [
      "All Transactions Date Range: 2018-09-20 to 2020-09-22\n"
     ]
    }
   ],
   "source": [
    "print(\"All Transactions Date Range: {} to {}\".format(data['t_dat'].min(), data['t_dat'].max()))\n",
    "\n",
    "data[\"t_dat\"] = pd.to_datetime(data[\"t_dat\"])\n",
    "train1 = data.loc[(data[\"t_dat\"] >= datetime.datetime(2020,9,8)) & (data['t_dat'] < datetime.datetime(2020,9,16))]\n",
    "train2 = data.loc[(data[\"t_dat\"] >= datetime.datetime(2020,9,1)) & (data['t_dat'] < datetime.datetime(2020,9,8))]\n",
    "train3 = data.loc[(data[\"t_dat\"] >= datetime.datetime(2020,8,23)) & (data['t_dat'] < datetime.datetime(2020,9,1))]\n",
    "train4 = data.loc[(data[\"t_dat\"] >= datetime.datetime(2020,8,15)) & (data['t_dat'] < datetime.datetime(2020,8,23))]\n",
    "train5 = data.loc[(data[\"t_dat\"] >= datetime.datetime(2020,8,7)) & (data['t_dat'] < datetime.datetime(2020,8,15))]\n",
    "\n",
    "val = data.loc[data[\"t_dat\"] >= datetime.datetime(2020,9,16)]"
   ]
  },
  {
   "cell_type": "code",
   "execution_count": 4,
   "id": "80e9e06c",
   "metadata": {
    "execution": {
     "iopub.execute_input": "2022-03-01T14:34:22.991420Z",
     "iopub.status.busy": "2022-03-01T14:34:22.990672Z",
     "iopub.status.idle": "2022-03-01T14:34:24.041224Z",
     "shell.execute_reply": "2022-03-01T14:34:24.041719Z"
    },
    "papermill": {
     "duration": 1.076163,
     "end_time": "2022-03-01T14:34:24.041905",
     "exception": false,
     "start_time": "2022-03-01T14:34:22.965742",
     "status": "completed"
    },
    "tags": []
   },
   "outputs": [],
   "source": [
    "articles_df = pd.read_csv('../input/h-and-m-personalized-fashion-recommendations/articles.csv', \n",
    "#                           dtype={'article_id': str}\n",
    "                         )"
   ]
  },
  {
   "cell_type": "markdown",
   "id": "e8e63bd7",
   "metadata": {
    "papermill": {
     "duration": 0.019448,
     "end_time": "2022-03-01T14:34:24.081119",
     "exception": false,
     "start_time": "2022-03-01T14:34:24.061671",
     "status": "completed"
    },
    "tags": []
   },
   "source": [
    "### recommend last week most popular items as alternatives to current week"
   ]
  },
  {
   "cell_type": "code",
   "execution_count": 5,
   "id": "b98e51f8",
   "metadata": {
    "execution": {
     "iopub.execute_input": "2022-03-01T14:34:24.127309Z",
     "iopub.status.busy": "2022-03-01T14:34:24.126679Z",
     "iopub.status.idle": "2022-03-01T14:34:24.139456Z",
     "shell.execute_reply": "2022-03-01T14:34:24.139908Z"
    },
    "papermill": {
     "duration": 0.036668,
     "end_time": "2022-03-01T14:34:24.140115",
     "exception": false,
     "start_time": "2022-03-01T14:34:24.103447",
     "status": "completed"
    },
    "tags": []
   },
   "outputs": [],
   "source": [
    "def get_alternate_most_popular(df_data, factor, return_orig=False):\n",
    "    \n",
    "    next_best_match = []\n",
    "    \n",
    "    df = df_data.copy()\n",
    "    df['article_count'] = df.groupby('article_id')['customer_id'].transform('count')\n",
    "    df['article_min_price'] = df.groupby('article_id')['price'].transform('min')\n",
    "    count_df = df[['article_id', 'article_count', 'article_min_price']].drop_duplicates().reset_index(drop=True)\n",
    "    \n",
    "    del df\n",
    "    \n",
    "    for article in tqdm(count_df.article_id.tolist()):\n",
    "        prodname = articles_df[articles_df.article_id==int(article)]['prod_name'].iloc[0]\n",
    "        other_article_list = articles_df[articles_df.prod_name==prodname]['article_id'].tolist()\n",
    "        other_article_list.remove(int(article))\n",
    "        k = len(other_article_list)\n",
    "        if k==1:\n",
    "            next_best_match.append(other_article_list[0])\n",
    "        if k>1:\n",
    "            if len(count_df[np.in1d(count_df['article_id'], other_article_list)])!=0:\n",
    "                next_best_match.append(count_df[np.in1d(count_df['article_id'], other_article_list)].sort_values('article_count', ascending=False)['article_id'].iloc[0])\n",
    "            else:\n",
    "                next_best_match.append(np.nan)\n",
    "        if k==0:\n",
    "            next_best_match.append(np.nan)\n",
    "\n",
    "    count_df['next_best_article'] = next_best_match\n",
    "    count_df['next_best_article'] = count_df['next_best_article'].fillna(0).astype(int)\n",
    "    count_df['next_best_article'] = np.where(count_df['next_best_article']==0, count_df['article_id'], str(0)+count_df['next_best_article'].astype(str))\n",
    "\n",
    "    right_df = count_df[['next_best_article']].copy().rename(columns={'next_best_article':'article_id'})\n",
    "\n",
    "    next_best_count = []\n",
    "    next_best_price = []\n",
    "    for article in tqdm(right_df['article_id']):\n",
    "        if len(count_df[count_df.article_id==article]['article_count'])>0:\n",
    "            next_best_count.append(count_df[count_df.article_id==article]['article_count'].iloc[0])\n",
    "            next_best_price.append(count_df[count_df.article_id==article]['article_min_price'].iloc[0])\n",
    "        else:\n",
    "            next_best_count.append(0)\n",
    "            next_best_price.append(0)\n",
    "\n",
    "    count_df['count_next_best'] = next_best_count\n",
    "    count_df['next_best_min_price'] = next_best_price\n",
    "        \n",
    "    more_popular_alternatives = count_df[(count_df.article_min_price >= count_df.next_best_min_price) & \n",
    "                                         (count_df.count_next_best > factor *count_df.article_count)].copy().reset_index(drop=True)\n",
    "    more_popular_alt_list = more_popular_alternatives.article_id.unique().tolist()\n",
    "    \n",
    "    if return_orig:\n",
    "        return more_popular_alt_list, more_popular_alternatives, count_df\n",
    "    else:\n",
    "        return more_popular_alt_list, more_popular_alternatives"
   ]
  },
  {
   "cell_type": "code",
   "execution_count": 6,
   "id": "84d14022",
   "metadata": {
    "execution": {
     "iopub.execute_input": "2022-03-01T14:34:24.185467Z",
     "iopub.status.busy": "2022-03-01T14:34:24.184871Z",
     "iopub.status.idle": "2022-03-01T15:00:49.633216Z",
     "shell.execute_reply": "2022-03-01T15:00:49.634001Z"
    },
    "papermill": {
     "duration": 1585.474288,
     "end_time": "2022-03-01T15:00:49.634308",
     "exception": false,
     "start_time": "2022-03-01T14:34:24.160020",
     "status": "completed"
    },
    "tags": []
   },
   "outputs": [
    {
     "name": "stderr",
     "output_type": "stream",
     "text": [
      "100%|██████████| 19573/19573 [03:50<00:00, 84.90it/s]\n",
      "100%|██████████| 19573/19573 [02:07<00:00, 153.29it/s]\n",
      "100%|██████████| 21332/21332 [04:32<00:00, 78.40it/s]\n",
      "100%|██████████| 21332/21332 [02:42<00:00, 131.00it/s]\n",
      "100%|██████████| 19954/19954 [03:52<00:00, 85.90it/s]\n",
      "100%|██████████| 19954/19954 [02:22<00:00, 140.30it/s]\n",
      "100%|██████████| 20228/20228 [04:22<00:00, 77.16it/s]\n",
      "100%|██████████| 20228/20228 [02:34<00:00, 130.85it/s]\n"
     ]
    }
   ],
   "source": [
    "alt_list_1v, alt_df_1v = get_alternate_most_popular(train2, 2, return_orig=False)\n",
    "alt_list_2v, alt_df_2v = get_alternate_most_popular(train3, 2, return_orig=False)\n",
    "alt_list_3v, alt_df_3v = get_alternate_most_popular(train4, 2, return_orig=False)\n",
    "alt_list_4v, alt_df_4v = get_alternate_most_popular(train5, 2, return_orig=False)"
   ]
  },
  {
   "cell_type": "code",
   "execution_count": 7,
   "id": "f5589dd5",
   "metadata": {
    "execution": {
     "iopub.execute_input": "2022-03-01T15:00:58.345078Z",
     "iopub.status.busy": "2022-03-01T15:00:58.343920Z",
     "iopub.status.idle": "2022-03-01T15:00:58.349146Z",
     "shell.execute_reply": "2022-03-01T15:00:58.348480Z"
    },
    "papermill": {
     "duration": 4.333936,
     "end_time": "2022-03-01T15:00:58.349296",
     "exception": false,
     "start_time": "2022-03-01T15:00:54.015360",
     "status": "completed"
    },
    "tags": []
   },
   "outputs": [
    {
     "data": {
      "text/plain": [
       "((460, 6), (521, 6), (457, 6), (542, 6))"
      ]
     },
     "execution_count": 7,
     "metadata": {},
     "output_type": "execute_result"
    }
   ],
   "source": [
    "alt_df_1v.shape, alt_df_2v.shape, alt_df_3v.shape, alt_df_4v.shape"
   ]
  },
  {
   "cell_type": "markdown",
   "id": "5b851efc",
   "metadata": {
    "papermill": {
     "duration": 4.137051,
     "end_time": "2022-03-01T15:01:06.889436",
     "exception": false,
     "start_time": "2022-03-01T15:01:02.752385",
     "status": "completed"
    },
    "tags": []
   },
   "source": [
    "Items which an user has bought in our train set time."
   ]
  },
  {
   "cell_type": "code",
   "execution_count": 8,
   "id": "1c5847e6",
   "metadata": {
    "execution": {
     "iopub.execute_input": "2022-03-01T15:01:15.098205Z",
     "iopub.status.busy": "2022-03-01T15:01:15.097243Z",
     "iopub.status.idle": "2022-03-01T15:01:21.431345Z",
     "shell.execute_reply": "2022-03-01T15:01:21.430702Z"
    },
    "papermill": {
     "duration": 10.468295,
     "end_time": "2022-03-01T15:01:21.431519",
     "exception": false,
     "start_time": "2022-03-01T15:01:10.963224",
     "status": "completed"
    },
    "tags": []
   },
   "outputs": [],
   "source": [
    "# List of all purchases per user (has repetitions)\n",
    "positive_items_per_user1 = train1.groupby(['customer_id'])['article_id'].apply(list)\n",
    "positive_items_per_user2 = train2.groupby(['customer_id'])['article_id'].apply(list)\n",
    "positive_items_per_user3 = train3.groupby(['customer_id'])['article_id'].apply(list)\n",
    "positive_items_per_user4 = train4.groupby(['customer_id'])['article_id'].apply(list)"
   ]
  },
  {
   "cell_type": "markdown",
   "id": "84f2635d",
   "metadata": {
    "papermill": {
     "duration": 3.959966,
     "end_time": "2022-03-01T15:01:29.317382",
     "exception": false,
     "start_time": "2022-03-01T15:01:25.357416",
     "status": "completed"
    },
    "tags": []
   },
   "source": [
    "Next we do exponential weighting based popularity for items. This leads to items bought more recently having more weight in the popularity list. In simple words, item A bought 5 times on the first day of the train period is inferior than item B bought 4 times on the last day of the train period."
   ]
  },
  {
   "cell_type": "code",
   "execution_count": 9,
   "id": "62fd352f",
   "metadata": {
    "execution": {
     "iopub.execute_input": "2022-03-01T15:01:37.642113Z",
     "iopub.status.busy": "2022-03-01T15:01:37.641442Z",
     "iopub.status.idle": "2022-03-01T15:01:44.930858Z",
     "shell.execute_reply": "2022-03-01T15:01:44.930257Z"
    },
    "papermill": {
     "duration": 11.455568,
     "end_time": "2022-03-01T15:01:44.931014",
     "exception": false,
     "start_time": "2022-03-01T15:01:33.475446",
     "status": "completed"
    },
    "tags": []
   },
   "outputs": [
    {
     "data": {
      "text/plain": [
       "count    557958.000000\n",
       "mean          0.200478\n",
       "std           0.207752\n",
       "min           0.066667\n",
       "25%           0.083333\n",
       "50%           0.125000\n",
       "75%           0.200000\n",
       "max           1.000000\n",
       "Name: pop_factor, dtype: float64"
      ]
     },
     "execution_count": 9,
     "metadata": {},
     "output_type": "execute_result"
    }
   ],
   "source": [
    "train = pd.concat([train1, train2], axis=0)\n",
    "train['pop_factor'] = train['t_dat'].apply(lambda x: 1/(datetime.datetime(2020,9,16) - x).days)\n",
    "popular_items_group = train.groupby(['article_id'])['pop_factor'].sum()\n",
    "\n",
    "_, popular_items = zip(*sorted(zip(popular_items_group, popular_items_group.keys()))[::-1])\n",
    "\n",
    "train['pop_factor'].describe()"
   ]
  },
  {
   "cell_type": "markdown",
   "id": "cfb44600",
   "metadata": {
    "papermill": {
     "duration": 3.960343,
     "end_time": "2022-03-01T15:01:52.775910",
     "exception": false,
     "start_time": "2022-03-01T15:01:48.815567",
     "status": "completed"
    },
    "tags": []
   },
   "source": [
    "### Moving on to Validation ..."
   ]
  },
  {
   "cell_type": "code",
   "execution_count": 10,
   "id": "e1d64ee8",
   "metadata": {
    "execution": {
     "iopub.execute_input": "2022-03-01T15:02:00.629643Z",
     "iopub.status.busy": "2022-03-01T15:02:00.628793Z",
     "iopub.status.idle": "2022-03-01T15:02:00.631573Z",
     "shell.execute_reply": "2022-03-01T15:02:00.631113Z"
    },
    "papermill": {
     "duration": 3.935945,
     "end_time": "2022-03-01T15:02:00.631731",
     "exception": false,
     "start_time": "2022-03-01T15:01:56.695786",
     "status": "completed"
    },
    "tags": []
   },
   "outputs": [],
   "source": [
    "def apk(actual, predicted, k=12):\n",
    "    if len(predicted)>k:\n",
    "        predicted = predicted[:k]\n",
    "\n",
    "    score = 0.0\n",
    "    num_hits = 0.0\n",
    "\n",
    "    for i,p in enumerate(predicted):\n",
    "        if p in actual and p not in predicted[:i]:\n",
    "            num_hits += 1.0\n",
    "            score += num_hits / (i+1.0)\n",
    "\n",
    "    if not actual:\n",
    "        return 0.0\n",
    "\n",
    "    return score / min(len(actual), k)\n",
    "\n",
    "def mapk(actual, predicted, k=12):\n",
    "    return np.mean([apk(a,p,k) for a,p in zip(actual, predicted)])"
   ]
  },
  {
   "cell_type": "markdown",
   "id": "77409a74",
   "metadata": {
    "papermill": {
     "duration": 3.890241,
     "end_time": "2022-03-01T15:02:08.588504",
     "exception": false,
     "start_time": "2022-03-01T15:02:04.698263",
     "status": "completed"
    },
    "tags": []
   },
   "source": [
    "Items bought by users in the validation period. Similar as the one for train set."
   ]
  },
  {
   "cell_type": "code",
   "execution_count": 11,
   "id": "c38bbc1f",
   "metadata": {
    "execution": {
     "iopub.execute_input": "2022-03-01T15:02:16.444059Z",
     "iopub.status.busy": "2022-03-01T15:02:16.443399Z",
     "iopub.status.idle": "2022-03-01T15:02:17.557338Z",
     "shell.execute_reply": "2022-03-01T15:02:17.557903Z"
    },
    "papermill": {
     "duration": 5.054924,
     "end_time": "2022-03-01T15:02:17.558089",
     "exception": false,
     "start_time": "2022-03-01T15:02:12.503165",
     "status": "completed"
    },
    "tags": []
   },
   "outputs": [],
   "source": [
    "positive_items_val = val.groupby(['customer_id'])['article_id'].apply(list)"
   ]
  },
  {
   "cell_type": "code",
   "execution_count": 12,
   "id": "da8e8622",
   "metadata": {
    "execution": {
     "iopub.execute_input": "2022-03-01T15:02:25.365975Z",
     "iopub.status.busy": "2022-03-01T15:02:25.365390Z",
     "iopub.status.idle": "2022-03-01T15:02:25.690398Z",
     "shell.execute_reply": "2022-03-01T15:02:25.689901Z"
    },
    "papermill": {
     "duration": 4.218141,
     "end_time": "2022-03-01T15:02:25.690531",
     "exception": false,
     "start_time": "2022-03-01T15:02:21.472390",
     "status": "completed"
    },
    "tags": []
   },
   "outputs": [
    {
     "name": "stderr",
     "output_type": "stream",
     "text": [
      "68984it [00:00, 219124.99it/s]"
     ]
    },
    {
     "name": "stdout",
     "output_type": "stream",
     "text": [
      "Total users in validation: 68984\n"
     ]
    },
    {
     "name": "stderr",
     "output_type": "stream",
     "text": [
      "\n"
     ]
    }
   ],
   "source": [
    "# creating validation set for metrics use case\n",
    "val_users = positive_items_val.keys()\n",
    "val_items = []\n",
    "\n",
    "for i,user in tqdm(enumerate(val_users)):\n",
    "    val_items.append(positive_items_val[user])\n",
    "    \n",
    "print(\"Total users in validation:\", len(val_users))"
   ]
  },
  {
   "cell_type": "markdown",
   "id": "08113899",
   "metadata": {
    "papermill": {
     "duration": 3.917856,
     "end_time": "2022-03-01T15:02:33.604853",
     "exception": false,
     "start_time": "2022-03-01T15:02:29.686997",
     "status": "completed"
    },
    "tags": []
   },
   "source": [
    "We'll now validate our algo on the validation set."
   ]
  },
  {
   "cell_type": "code",
   "execution_count": 13,
   "id": "cb690059",
   "metadata": {
    "execution": {
     "iopub.execute_input": "2022-03-01T15:02:41.731705Z",
     "iopub.status.busy": "2022-03-01T15:02:41.730883Z",
     "iopub.status.idle": "2022-03-01T15:02:50.986245Z",
     "shell.execute_reply": "2022-03-01T15:02:50.985267Z"
    },
    "papermill": {
     "duration": 13.260144,
     "end_time": "2022-03-01T15:02:50.986452",
     "exception": false,
     "start_time": "2022-03-01T15:02:37.726308",
     "status": "completed"
    },
    "tags": []
   },
   "outputs": [
    {
     "name": "stderr",
     "output_type": "stream",
     "text": [
      "100%|██████████| 68984/68984 [00:09<00:00, 7617.92it/s]\n"
     ]
    },
    {
     "name": "stdout",
     "output_type": "stream",
     "text": [
      "mAP Score on Validation set: 0.024392270583646312\n"
     ]
    }
   ],
   "source": [
    "from collections import Counter\n",
    "outputs = []\n",
    "cnt = 0\n",
    "\n",
    "popular_items = list(popular_items)\n",
    "\n",
    "for user in tqdm(val_users):\n",
    "    user_output = []\n",
    "    if user in positive_items_per_user1.keys():\n",
    "        most_common_items_of_user = {k:v for k, v in Counter(positive_items_per_user1[user]).most_common()}\n",
    "        l = list(most_common_items_of_user.keys())\n",
    "        al = []\n",
    "        for j in range(0, len(l)):\n",
    "            if l[j] in alt_list_1v:\n",
    "                al.append(alt_df_1v[alt_df_1v.article_id==l[j]]['next_best_article'].iloc[0])\n",
    "        l = l + al\n",
    "        user_output += l[:12]\n",
    "        \n",
    "    if user in positive_items_per_user2.keys():\n",
    "        most_common_items_of_user = {k:v for k, v in Counter(positive_items_per_user2[user]).most_common()}\n",
    "        l = list(most_common_items_of_user.keys())\n",
    "        al = []\n",
    "        for j in range(0, len(l)):\n",
    "            if l[j] in alt_list_2v:\n",
    "                al.append(alt_df_2v[alt_df_2v.article_id==l[j]]['next_best_article'].iloc[0])\n",
    "        l = l + al\n",
    "        user_output += l[:12]\n",
    "        \n",
    "    if user in positive_items_per_user3.keys():\n",
    "        most_common_items_of_user = {k:v for k, v in Counter(positive_items_per_user3[user]).most_common()}\n",
    "        l = list(most_common_items_of_user.keys())\n",
    "        al = []\n",
    "        for j in range(0, len(l)):\n",
    "            if l[j] in alt_list_3v:\n",
    "                al.append(alt_df_3v[alt_df_3v.article_id==l[j]]['next_best_article'].iloc[0])\n",
    "        l = l + al\n",
    "        user_output += l[:12]\n",
    "        \n",
    "    if user in positive_items_per_user4.keys():\n",
    "        most_common_items_of_user = {k:v for k, v in Counter(positive_items_per_user4[user]).most_common()}\n",
    "        l = list(most_common_items_of_user.keys())\n",
    "        al = []\n",
    "        for j in range(0, len(l)):\n",
    "            if l[j] in alt_list_4v:\n",
    "                al.append(alt_df_4v[alt_df_4v.article_id==l[j]]['next_best_article'].iloc[0])\n",
    "        l = l + al\n",
    "        user_output += l[:12]\n",
    "    \n",
    "    user_output += list(popular_items[:12 - len(user_output)])    \n",
    "    outputs.append(user_output)\n",
    "    \n",
    "print(\"mAP Score on Validation set:\", mapk(val_items, outputs))"
   ]
  },
  {
   "cell_type": "markdown",
   "id": "db7a14b8",
   "metadata": {
    "papermill": {
     "duration": 3.942644,
     "end_time": "2022-03-01T15:02:59.013657",
     "exception": false,
     "start_time": "2022-03-01T15:02:55.071013",
     "status": "completed"
    },
    "tags": []
   },
   "source": [
    "### Prediction on Test Set"
   ]
  },
  {
   "cell_type": "code",
   "execution_count": 14,
   "id": "efc32322",
   "metadata": {
    "execution": {
     "iopub.execute_input": "2022-03-01T15:03:06.991794Z",
     "iopub.status.busy": "2022-03-01T15:03:06.991169Z",
     "iopub.status.idle": "2022-03-01T15:03:08.287050Z",
     "shell.execute_reply": "2022-03-01T15:03:08.286400Z"
    },
    "papermill": {
     "duration": 5.302654,
     "end_time": "2022-03-01T15:03:08.287198",
     "exception": false,
     "start_time": "2022-03-01T15:03:02.984544",
     "status": "completed"
    },
    "tags": []
   },
   "outputs": [],
   "source": [
    "train1 = data.loc[(data[\"t_dat\"] >= datetime.datetime(2020,9,16)) & (data['t_dat'] < datetime.datetime(2020,9,23))]\n",
    "train2 = data.loc[(data[\"t_dat\"] >= datetime.datetime(2020,9,8)) & (data['t_dat'] < datetime.datetime(2020,9,16))]\n",
    "train3 = data.loc[(data[\"t_dat\"] >= datetime.datetime(2020,8,31)) & (data['t_dat'] < datetime.datetime(2020,9,8))]\n",
    "train4 = data.loc[(data[\"t_dat\"] >= datetime.datetime(2020,8,23)) & (data['t_dat'] < datetime.datetime(2020,8,31))]\n",
    "train5 = data.loc[(data[\"t_dat\"] >= datetime.datetime(2020,8,15)) & (data['t_dat'] < datetime.datetime(2020,8,23))]"
   ]
  },
  {
   "cell_type": "code",
   "execution_count": 15,
   "id": "70056f40",
   "metadata": {
    "execution": {
     "iopub.execute_input": "2022-03-01T15:03:16.296246Z",
     "iopub.status.busy": "2022-03-01T15:03:16.295327Z",
     "iopub.status.idle": "2022-03-01T15:08:46.241877Z",
     "shell.execute_reply": "2022-03-01T15:08:46.242442Z"
    },
    "papermill": {
     "duration": 333.944432,
     "end_time": "2022-03-01T15:08:46.242635",
     "exception": false,
     "start_time": "2022-03-01T15:03:12.298203",
     "status": "completed"
    },
    "tags": []
   },
   "outputs": [
    {
     "name": "stderr",
     "output_type": "stream",
     "text": [
      "100%|██████████| 19333/19333 [03:30<00:00, 91.94it/s]\n",
      "100%|██████████| 19333/19333 [01:59<00:00, 161.89it/s]\n"
     ]
    }
   ],
   "source": [
    "alt_list_1, alt_df_1 = get_alternate_most_popular(train2, 2, return_orig=False)\n",
    "alt_list_2, alt_df_2 = alt_list_1v, alt_df_1v\n",
    "alt_list_3, alt_df_3 = alt_list_2v, alt_df_2v\n",
    "alt_list_4, alt_df_4 = alt_list_3v, alt_df_3v"
   ]
  },
  {
   "cell_type": "code",
   "execution_count": 16,
   "id": "7aff1283",
   "metadata": {
    "execution": {
     "iopub.execute_input": "2022-03-01T15:08:57.086549Z",
     "iopub.status.busy": "2022-03-01T15:08:57.085508Z",
     "iopub.status.idle": "2022-03-01T15:08:57.089236Z",
     "shell.execute_reply": "2022-03-01T15:08:57.089699Z"
    },
    "papermill": {
     "duration": 5.098566,
     "end_time": "2022-03-01T15:08:57.089893",
     "exception": false,
     "start_time": "2022-03-01T15:08:51.991327",
     "status": "completed"
    },
    "tags": []
   },
   "outputs": [
    {
     "data": {
      "text/plain": [
       "((481, 6), (460, 6), (521, 6), (457, 6))"
      ]
     },
     "execution_count": 16,
     "metadata": {},
     "output_type": "execute_result"
    }
   ],
   "source": [
    "alt_df_1.shape, alt_df_2.shape, alt_df_3.shape, alt_df_4.shape"
   ]
  },
  {
   "cell_type": "code",
   "execution_count": 17,
   "id": "2c466944",
   "metadata": {
    "execution": {
     "iopub.execute_input": "2022-03-01T15:09:06.749551Z",
     "iopub.status.busy": "2022-03-01T15:09:06.748638Z",
     "iopub.status.idle": "2022-03-01T15:09:29.256363Z",
     "shell.execute_reply": "2022-03-01T15:09:29.255582Z"
    },
    "papermill": {
     "duration": 27.276278,
     "end_time": "2022-03-01T15:09:29.256520",
     "exception": false,
     "start_time": "2022-03-01T15:09:01.980242",
     "status": "completed"
    },
    "tags": []
   },
   "outputs": [],
   "source": [
    "positive_items_per_user1 = train1.groupby(['customer_id'])['article_id'].apply(list)\n",
    "positive_items_per_user2 = train2.groupby(['customer_id'])['article_id'].apply(list)\n",
    "positive_items_per_user3 = train3.groupby(['customer_id'])['article_id'].apply(list)\n",
    "positive_items_per_user4 = train4.groupby(['customer_id'])['article_id'].apply(list)\n",
    "\n",
    "train = pd.concat([train1, train2], axis=0)\n",
    "train['pop_factor'] = train['t_dat'].apply(lambda x: 1/(datetime.datetime(2020,9,23) - x).days)\n",
    "popular_items_group = train.groupby(['article_id'])['pop_factor'].sum()\n",
    "\n",
    "_, popular_items = zip(*sorted(zip(popular_items_group, popular_items_group.keys()))[::-1])\n",
    "\n",
    "user_group = pd.concat([train1, train2, train3, train4], axis=0).groupby(['customer_id'])['article_id'].apply(list)"
   ]
  },
  {
   "cell_type": "code",
   "execution_count": 18,
   "id": "3121d15f",
   "metadata": {
    "execution": {
     "iopub.execute_input": "2022-03-01T15:09:39.020385Z",
     "iopub.status.busy": "2022-03-01T15:09:39.019419Z",
     "iopub.status.idle": "2022-03-01T15:09:44.156289Z",
     "shell.execute_reply": "2022-03-01T15:09:44.155701Z"
    },
    "papermill": {
     "duration": 9.961008,
     "end_time": "2022-03-01T15:09:44.156447",
     "exception": false,
     "start_time": "2022-03-01T15:09:34.195439",
     "status": "completed"
    },
    "tags": []
   },
   "outputs": [
    {
     "data": {
      "text/html": [
       "<div>\n",
       "<style scoped>\n",
       "    .dataframe tbody tr th:only-of-type {\n",
       "        vertical-align: middle;\n",
       "    }\n",
       "\n",
       "    .dataframe tbody tr th {\n",
       "        vertical-align: top;\n",
       "    }\n",
       "\n",
       "    .dataframe thead th {\n",
       "        text-align: right;\n",
       "    }\n",
       "</style>\n",
       "<table border=\"1\" class=\"dataframe\">\n",
       "  <thead>\n",
       "    <tr style=\"text-align: right;\">\n",
       "      <th></th>\n",
       "      <th>customer_id</th>\n",
       "      <th>prediction</th>\n",
       "    </tr>\n",
       "  </thead>\n",
       "  <tbody>\n",
       "    <tr>\n",
       "      <th>0</th>\n",
       "      <td>00000dbacae5abe5e23885899a1fa44253a17956c6d1c3...</td>\n",
       "      <td>0706016001 0706016002 0372860001 0610776002 07...</td>\n",
       "    </tr>\n",
       "    <tr>\n",
       "      <th>1</th>\n",
       "      <td>0000423b00ade91418cceaf3b26c6af3dd342b51fd051e...</td>\n",
       "      <td>0706016001 0706016002 0372860001 0610776002 07...</td>\n",
       "    </tr>\n",
       "    <tr>\n",
       "      <th>2</th>\n",
       "      <td>000058a12d5b43e67d225668fa1f8d618c13dc232df0ca...</td>\n",
       "      <td>0706016001 0706016002 0372860001 0610776002 07...</td>\n",
       "    </tr>\n",
       "    <tr>\n",
       "      <th>3</th>\n",
       "      <td>00005ca1c9ed5f5146b52ac8639a40ca9d57aeff4d1bd2...</td>\n",
       "      <td>0706016001 0706016002 0372860001 0610776002 07...</td>\n",
       "    </tr>\n",
       "    <tr>\n",
       "      <th>4</th>\n",
       "      <td>00006413d8573cd20ed7128e53b7b13819fe5cfc2d801f...</td>\n",
       "      <td>0706016001 0706016002 0372860001 0610776002 07...</td>\n",
       "    </tr>\n",
       "  </tbody>\n",
       "</table>\n",
       "</div>"
      ],
      "text/plain": [
       "                                         customer_id  \\\n",
       "0  00000dbacae5abe5e23885899a1fa44253a17956c6d1c3...   \n",
       "1  0000423b00ade91418cceaf3b26c6af3dd342b51fd051e...   \n",
       "2  000058a12d5b43e67d225668fa1f8d618c13dc232df0ca...   \n",
       "3  00005ca1c9ed5f5146b52ac8639a40ca9d57aeff4d1bd2...   \n",
       "4  00006413d8573cd20ed7128e53b7b13819fe5cfc2d801f...   \n",
       "\n",
       "                                          prediction  \n",
       "0  0706016001 0706016002 0372860001 0610776002 07...  \n",
       "1  0706016001 0706016002 0372860001 0610776002 07...  \n",
       "2  0706016001 0706016002 0372860001 0610776002 07...  \n",
       "3  0706016001 0706016002 0372860001 0610776002 07...  \n",
       "4  0706016001 0706016002 0372860001 0610776002 07...  "
      ]
     },
     "execution_count": 18,
     "metadata": {},
     "output_type": "execute_result"
    }
   ],
   "source": [
    "submission = pd.read_csv(\"../input/h-and-m-personalized-fashion-recommendations/sample_submission.csv\")\n",
    "submission.head()"
   ]
  },
  {
   "cell_type": "code",
   "execution_count": 19,
   "id": "91393206",
   "metadata": {
    "execution": {
     "iopub.execute_input": "2022-03-01T15:09:53.796189Z",
     "iopub.status.busy": "2022-03-01T15:09:53.794895Z",
     "iopub.status.idle": "2022-03-01T15:11:37.245113Z",
     "shell.execute_reply": "2022-03-01T15:11:37.244383Z"
    },
    "papermill": {
     "duration": 108.320103,
     "end_time": "2022-03-01T15:11:37.245281",
     "exception": false,
     "start_time": "2022-03-01T15:09:48.925178",
     "status": "completed"
    },
    "tags": []
   },
   "outputs": [
    {
     "name": "stderr",
     "output_type": "stream",
     "text": [
      "100%|██████████| 1371980/1371980 [00:56<00:00, 24166.51it/s]\n"
     ]
    }
   ],
   "source": [
    "from collections import Counter\n",
    "outputs = []\n",
    "cnt = 0\n",
    "\n",
    "for user in tqdm(submission['customer_id']):\n",
    "    user_output = []\n",
    "    if user in positive_items_per_user1.keys():\n",
    "        most_common_items_of_user = {k:v for k, v in Counter(positive_items_per_user1[user]).most_common()}\n",
    "        l = list(most_common_items_of_user.keys())\n",
    "        al = []\n",
    "        for j in range(0, len(l)):\n",
    "            if l[j] in alt_list_1:\n",
    "                al.append(alt_df_1[alt_df_1.article_id==l[j]]['next_best_article'].iloc[0])\n",
    "        l = l + al\n",
    "        user_output += l[:12]\n",
    "        \n",
    "    if user in positive_items_per_user2.keys():\n",
    "        most_common_items_of_user = {k:v for k, v in Counter(positive_items_per_user2[user]).most_common()}\n",
    "        l = list(most_common_items_of_user.keys())\n",
    "        al = []\n",
    "        for j in range(0, len(l)):\n",
    "            if l[j] in alt_list_2:\n",
    "                al.append(alt_df_2[alt_df_2.article_id==l[j]]['next_best_article'].iloc[0])\n",
    "        l = l + al\n",
    "        user_output += l[:12]\n",
    "        \n",
    "    if user in positive_items_per_user3.keys():\n",
    "        most_common_items_of_user = {k:v for k, v in Counter(positive_items_per_user3[user]).most_common()}\n",
    "        l = list(most_common_items_of_user.keys())\n",
    "        al = []\n",
    "        for j in range(0, len(l)):\n",
    "            if l[j] in alt_list_3:\n",
    "                al.append(alt_df_3[alt_df_3.article_id==l[j]]['next_best_article'].iloc[0])\n",
    "        l = l + al\n",
    "        user_output += l[:12]\n",
    "        \n",
    "    if user in positive_items_per_user4.keys():\n",
    "        most_common_items_of_user = {k:v for k, v in Counter(positive_items_per_user4[user]).most_common()}\n",
    "        l = list(most_common_items_of_user.keys())\n",
    "        al = []\n",
    "        for j in range(0, len(l)):\n",
    "            if l[j] in alt_list_4:\n",
    "                al.append(alt_df_4[alt_df_4.article_id==l[j]]['next_best_article'].iloc[0])\n",
    "        l = l + al        \n",
    "        user_output += l[:12]\n",
    "    \n",
    "    user_output += list(popular_items[:12 - len(user_output)])\n",
    "    outputs.append(user_output)\n",
    "    \n",
    "str_outputs = []\n",
    "for output in outputs:\n",
    "    str_outputs.append(\" \".join([str(x) for x in output]))"
   ]
  },
  {
   "cell_type": "code",
   "execution_count": 20,
   "id": "e3112184",
   "metadata": {
    "execution": {
     "iopub.execute_input": "2022-03-01T15:11:47.334014Z",
     "iopub.status.busy": "2022-03-01T15:11:47.333075Z",
     "iopub.status.idle": "2022-03-01T15:12:33.473803Z",
     "shell.execute_reply": "2022-03-01T15:12:33.473268Z"
    },
    "papermill": {
     "duration": 51.275064,
     "end_time": "2022-03-01T15:12:33.474010",
     "exception": false,
     "start_time": "2022-03-01T15:11:42.198946",
     "status": "completed"
    },
    "tags": []
   },
   "outputs": [],
   "source": [
    "submission['prediction'] = str_outputs\n",
    "submission.to_csv(\"submission.csv\", index=False)"
   ]
  },
  {
   "cell_type": "code",
   "execution_count": 21,
   "id": "26797adf",
   "metadata": {
    "execution": {
     "iopub.execute_input": "2022-03-01T15:12:45.429047Z",
     "iopub.status.busy": "2022-03-01T15:12:45.428403Z",
     "iopub.status.idle": "2022-03-01T15:12:45.432529Z",
     "shell.execute_reply": "2022-03-01T15:12:45.433096Z"
    },
    "papermill": {
     "duration": 6.744581,
     "end_time": "2022-03-01T15:12:45.433265",
     "exception": false,
     "start_time": "2022-03-01T15:12:38.688684",
     "status": "completed"
    },
    "tags": []
   },
   "outputs": [
    {
     "data": {
      "text/html": [
       "<div>\n",
       "<style scoped>\n",
       "    .dataframe tbody tr th:only-of-type {\n",
       "        vertical-align: middle;\n",
       "    }\n",
       "\n",
       "    .dataframe tbody tr th {\n",
       "        vertical-align: top;\n",
       "    }\n",
       "\n",
       "    .dataframe thead th {\n",
       "        text-align: right;\n",
       "    }\n",
       "</style>\n",
       "<table border=\"1\" class=\"dataframe\">\n",
       "  <thead>\n",
       "    <tr style=\"text-align: right;\">\n",
       "      <th></th>\n",
       "      <th>customer_id</th>\n",
       "      <th>prediction</th>\n",
       "    </tr>\n",
       "  </thead>\n",
       "  <tbody>\n",
       "    <tr>\n",
       "      <th>0</th>\n",
       "      <td>00000dbacae5abe5e23885899a1fa44253a17956c6d1c3...</td>\n",
       "      <td>0568601043 0924243001 0924243002 0918522001 07...</td>\n",
       "    </tr>\n",
       "    <tr>\n",
       "      <th>1</th>\n",
       "      <td>0000423b00ade91418cceaf3b26c6af3dd342b51fd051e...</td>\n",
       "      <td>0924243001 0924243002 0918522001 0751471001 04...</td>\n",
       "    </tr>\n",
       "    <tr>\n",
       "      <th>2</th>\n",
       "      <td>000058a12d5b43e67d225668fa1f8d618c13dc232df0ca...</td>\n",
       "      <td>0794321007 0924243001 0924243002 0918522001 07...</td>\n",
       "    </tr>\n",
       "    <tr>\n",
       "      <th>3</th>\n",
       "      <td>00005ca1c9ed5f5146b52ac8639a40ca9d57aeff4d1bd2...</td>\n",
       "      <td>0924243001 0924243002 0918522001 0751471001 04...</td>\n",
       "    </tr>\n",
       "    <tr>\n",
       "      <th>4</th>\n",
       "      <td>00006413d8573cd20ed7128e53b7b13819fe5cfc2d801f...</td>\n",
       "      <td>0924243001 0924243002 0918522001 0751471001 04...</td>\n",
       "    </tr>\n",
       "  </tbody>\n",
       "</table>\n",
       "</div>"
      ],
      "text/plain": [
       "                                         customer_id  \\\n",
       "0  00000dbacae5abe5e23885899a1fa44253a17956c6d1c3...   \n",
       "1  0000423b00ade91418cceaf3b26c6af3dd342b51fd051e...   \n",
       "2  000058a12d5b43e67d225668fa1f8d618c13dc232df0ca...   \n",
       "3  00005ca1c9ed5f5146b52ac8639a40ca9d57aeff4d1bd2...   \n",
       "4  00006413d8573cd20ed7128e53b7b13819fe5cfc2d801f...   \n",
       "\n",
       "                                          prediction  \n",
       "0  0568601043 0924243001 0924243002 0918522001 07...  \n",
       "1  0924243001 0924243002 0918522001 0751471001 04...  \n",
       "2  0794321007 0924243001 0924243002 0918522001 07...  \n",
       "3  0924243001 0924243002 0918522001 0751471001 04...  \n",
       "4  0924243001 0924243002 0918522001 0751471001 04...  "
      ]
     },
     "execution_count": 21,
     "metadata": {},
     "output_type": "execute_result"
    }
   ],
   "source": [
    "submission.head()"
   ]
  },
  {
   "cell_type": "code",
   "execution_count": null,
   "id": "8c9de9ae",
   "metadata": {
    "papermill": {
     "duration": 5.023083,
     "end_time": "2022-03-01T15:12:56.119375",
     "exception": false,
     "start_time": "2022-03-01T15:12:51.096292",
     "status": "completed"
    },
    "tags": []
   },
   "outputs": [],
   "source": []
  }
 ],
 "metadata": {
  "kernelspec": {
   "display_name": "Python 3",
   "language": "python",
   "name": "python3"
  },
  "language_info": {
   "codemirror_mode": {
    "name": "ipython",
    "version": 3
   },
   "file_extension": ".py",
   "mimetype": "text/x-python",
   "name": "python",
   "nbconvert_exporter": "python",
   "pygments_lexer": "ipython3",
   "version": "3.7.12"
  },
  "papermill": {
   "default_parameters": {},
   "duration": 2408.943391,
   "end_time": "2022-03-01T15:13:03.928537",
   "environment_variables": {},
   "exception": null,
   "input_path": "__notebook__.ipynb",
   "output_path": "__notebook__.ipynb",
   "parameters": {},
   "start_time": "2022-03-01T14:32:54.985146",
   "version": "2.3.3"
  }
 },
 "nbformat": 4,
 "nbformat_minor": 5
}
