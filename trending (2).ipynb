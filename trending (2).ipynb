{
 "cells": [
  {
   "cell_type": "code",
   "execution_count": 1,
   "id": "7af260fa",
   "metadata": {
    "execution": {
     "iopub.execute_input": "2022-03-22T21:36:22.228457Z",
     "iopub.status.busy": "2022-03-22T21:36:22.227623Z",
     "iopub.status.idle": "2022-03-22T21:37:37.994673Z",
     "shell.execute_reply": "2022-03-22T21:37:37.993790Z",
     "shell.execute_reply.started": "2022-03-20T07:33:23.283512Z"
    },
    "papermill": {
     "duration": 75.782285,
     "end_time": "2022-03-22T21:37:37.994845",
     "exception": false,
     "start_time": "2022-03-22T21:36:22.212560",
     "status": "completed"
    },
    "tags": []
   },
   "outputs": [],
   "source": [
    "import pandas as pd\n",
    "import numpy as np\n",
    "from math import sqrt\n",
    "from pathlib import Path\n",
    "from tqdm import tqdm\n",
    "tqdm.pandas()\n",
    "\n",
    "N = 12\n",
    "df_trans = pd.read_csv('/kaggle/input/h-and-m-personalized-fashion-recommendations/transactions_train.csv',dtype={'article_id': str})\n",
    "df_trans['t_dat'] = pd.to_datetime(df_trans['t_dat'])\n"
   ]
  },
  {
   "cell_type": "code",
   "execution_count": 2,
   "id": "4f56940d",
   "metadata": {
    "_cell_guid": "b1076dfc-b9ad-4769-8c92-a6c4dae69d19",
    "_uuid": "8f2839f25d086af736a60e9eeb907d3b93b6e0e5",
    "execution": {
     "iopub.execute_input": "2022-03-22T21:37:38.018420Z",
     "iopub.status.busy": "2022-03-22T21:37:38.017423Z",
     "iopub.status.idle": "2022-03-22T23:40:42.521954Z",
     "shell.execute_reply": "2022-03-22T23:40:42.522620Z"
    },
    "papermill": {
     "duration": 7384.522864,
     "end_time": "2022-03-22T23:40:42.522895",
     "exception": false,
     "start_time": "2022-03-22T21:37:38.000031",
     "status": "completed"
    },
    "tags": []
   },
   "outputs": [
    {
     "name": "stderr",
     "output_type": "stream",
     "text": [
      "100%|██████████| 31788324/31788324 [59:43<00:00, 8870.76it/s]\n"
     ]
    }
   ],
   "source": [
    "# Step1\n",
    "df = df_trans[['t_dat', 'customer_id', 'article_id']].copy()\n",
    "last_ts = df['t_dat'].max()\n",
    "df['ldbw'] = df['t_dat'].apply(lambda d: last_ts - (last_ts - d).floor('7D'))\n",
    "weekly_sales = df.drop('customer_id', axis=1).groupby(['ldbw', 'article_id']).count()\n",
    "weekly_sales = weekly_sales.rename(columns={'t_dat': 'count'})\n",
    "df = df.join(weekly_sales, on=['ldbw', 'article_id'])\n",
    "weekly_sales = weekly_sales.reset_index().set_index('article_id')\n",
    "last_day = last_ts.strftime('%Y-%m-%d')\n",
    "\n",
    "df = df.join(\n",
    "    weekly_sales.loc[weekly_sales['ldbw']==last_day, ['count']],\n",
    "    on='article_id', rsuffix=\"_targ\")\n",
    "\n",
    "df['count_targ'].fillna(0, inplace=True)\n",
    "del weekly_sales\n",
    "df['quotient'] = df['count_targ'] / df['count']\n",
    "\n",
    "purchase_dict = {}\n",
    "\n",
    "for i in tqdm(df.index):\n",
    "    cust_id = df.at[i, 'customer_id']\n",
    "    art_id = df.at[i, 'article_id']\n",
    "    t_dat = df.at[i, 't_dat']\n",
    "\n",
    "    if cust_id not in purchase_dict:\n",
    "        purchase_dict[cust_id] = {}\n",
    "\n",
    "    if art_id not in purchase_dict[cust_id]:\n",
    "        purchase_dict[cust_id][art_id] = 0\n",
    "    \n",
    "    x = max(1, (last_ts - t_dat).days)\n",
    "\n",
    "    a, b, c, d = 2.5e4, 1.5e5, 2e-1, 1e3\n",
    "    y = a / np.sqrt(x) + b * np.exp(-c*x) - d\n",
    "\n",
    "    value = df.at[i, 'quotient'] * max(0, y)\n",
    "    purchase_dict[cust_id][art_id] += value\n",
    "\n",
    "target_sales = df.drop('customer_id', axis=1).groupby('article_id')['quotient'].sum()\n",
    "general_pred = target_sales.nlargest(N).index.tolist()"
   ]
  },
  {
   "cell_type": "code",
   "execution_count": 3,
   "id": "ee1f4edf",
   "metadata": {
    "execution": {
     "iopub.execute_input": "2022-03-22T23:41:08.090984Z",
     "iopub.status.busy": "2022-03-22T23:41:08.084837Z",
     "iopub.status.idle": "2022-03-22T23:58:46.854389Z",
     "shell.execute_reply": "2022-03-22T23:58:46.853487Z"
    },
    "papermill": {
     "duration": 1071.590304,
     "end_time": "2022-03-22T23:58:46.854567",
     "exception": false,
     "start_time": "2022-03-22T23:40:55.264263",
     "status": "completed"
    },
    "tags": []
   },
   "outputs": [
    {
     "name": "stderr",
     "output_type": "stream",
     "text": [
      "100%|██████████| 1371980/1371980 [17:21<00:00, 1317.73it/s]\n"
     ]
    }
   ],
   "source": [
    "# Step2 & Step3\n",
    "pairs = np.load('../input/hmitempairs/pairs_cudf.npy',allow_pickle=True).item()\n",
    "sub = pd.read_csv('/kaggle/input/h-and-m-personalized-fashion-recommendations/sample_submission.csv')\n",
    "\n",
    "pred_list = []\n",
    "for cust_id in tqdm(sub['customer_id']):\n",
    "    if cust_id in purchase_dict:\n",
    "        series = pd.Series(purchase_dict[cust_id])\n",
    "        series = series[series > 150]\n",
    "        l = series.nlargest(N).index.tolist()\n",
    "        tmp_l = l.copy()\n",
    "        for elm in tmp_l:\n",
    "            if len(l) < N and int(elm) in pairs.keys():\n",
    "                itm = pairs[int(elm)]\n",
    "                l.append('0' + str(itm))\n",
    "        if len(l) < N:\n",
    "            l = l + general_pred[:(N-len(l))]\n",
    "    else:\n",
    "        l = general_pred\n",
    "    pred_list.append(' '.join(l))\n",
    "\n",
    "sub['prediction'] = pred_list\n",
    "sub.to_csv(f'submission.csv',index=False)\n"
   ]
  }
 ],
 "metadata": {
  "kernelspec": {
   "display_name": "Python 3",
   "language": "python",
   "name": "python3"
  },
  "language_info": {
   "codemirror_mode": {
    "name": "ipython",
    "version": 3
   },
   "file_extension": ".py",
   "mimetype": "text/x-python",
   "name": "python",
   "nbconvert_exporter": "python",
   "pygments_lexer": "ipython3",
   "version": "3.7.12"
  },
  "papermill": {
   "default_parameters": {},
   "duration": 8573.489771,
   "end_time": "2022-03-22T23:59:06.569622",
   "environment_variables": {},
   "exception": null,
   "input_path": "__notebook__.ipynb",
   "output_path": "__notebook__.ipynb",
   "parameters": {},
   "start_time": "2022-03-22T21:36:13.079851",
   "version": "2.3.3"
  }
 },
 "nbformat": 4,
 "nbformat_minor": 5
}
