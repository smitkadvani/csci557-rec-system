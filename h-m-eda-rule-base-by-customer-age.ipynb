{
 "cells": [
  {
   "cell_type": "markdown",
   "id": "27ae326e",
   "metadata": {
    "papermill": {
     "duration": 0.027578,
     "end_time": "2022-03-21T09:55:16.527918",
     "exception": false,
     "start_time": "2022-03-21T09:55:16.500340",
     "status": "completed"
    },
    "tags": []
   },
   "source": [
    "# H&M Recommendation - EDA & Rule Base by Customer Age\n",
    "\n",
    "Thank you for your checking this notebook.\n",
    "\n",
    "This is my notebook for \"H&M Personalized Fashion Recommendations\" competition [(Link)](https://www.kaggle.com/c/h-and-m-personalized-fashion-recommendations/overview) to predict purchasing articles based on rule base & customer age.\n",
    "\n",
    "If you think this notebook is interesting, please leave your comment or question and I appreciate your upvote as well. :) \n",
    "\n",
    "<a id='top'></a>\n",
    "## Contents\n",
    "1. [Import Library & Set Config](#config)\n",
    "2. [Load Data](#load)\n",
    "3. [EDA of recent popular articles of each ages](#eda)\n",
    "4. [Prediction](#pred)\n",
    "5. [Submission](#sub)\n",
    "6. [Conclution](#conclution)\n",
    "7. [Reference](#ref)"
   ]
  },
  {
   "cell_type": "markdown",
   "id": "5e5f3604",
   "metadata": {
    "papermill": {
     "duration": 0.024956,
     "end_time": "2022-03-21T09:55:16.578877",
     "exception": false,
     "start_time": "2022-03-21T09:55:16.553921",
     "status": "completed"
    },
    "tags": []
   },
   "source": [
    "<a id='config'></a>\n",
    "\n",
    "---\n",
    "## 1. Import Library & Set Config\n",
    "---\n",
    "\n",
    "[Back to Contents](#top)"
   ]
  },
  {
   "cell_type": "code",
   "execution_count": 1,
   "id": "abb42842",
   "metadata": {
    "execution": {
     "iopub.execute_input": "2022-03-21T09:55:16.640663Z",
     "iopub.status.busy": "2022-03-21T09:55:16.639575Z",
     "iopub.status.idle": "2022-03-21T09:55:20.939751Z",
     "shell.execute_reply": "2022-03-21T09:55:20.938599Z",
     "shell.execute_reply.started": "2022-03-21T08:47:21.134074Z"
    },
    "papermill": {
     "duration": 4.335662,
     "end_time": "2022-03-21T09:55:20.939942",
     "exception": false,
     "start_time": "2022-03-21T09:55:16.604280",
     "status": "completed"
    },
    "tags": []
   },
   "outputs": [],
   "source": [
    "# === General ===\n",
    "import sys, warnings, time, os, copy, gc, re, random, pickle, cudf\n",
    "warnings.filterwarnings('ignore')\n",
    "from IPython.display import display\n",
    "import matplotlib.pyplot as plt\n",
    "import numpy as np\n",
    "import pandas as pd\n",
    "# pd.set_option('display.max_rows', 50)\n",
    "# pd.set_option('display.max_columns', None)\n",
    "# pd.set_option(\"display.max_colwidth\", 10000)\n",
    "import seaborn as sns\n",
    "sns.set()\n",
    "from pandas.io.json import json_normalize\n",
    "from pprint import pprint\n",
    "from pathlib import Path\n",
    "from tqdm import tqdm\n",
    "tqdm.pandas()\n",
    "from collections import Counter\n",
    "from datetime import datetime, timedelta"
   ]
  },
  {
   "cell_type": "code",
   "execution_count": 2,
   "id": "26f22025",
   "metadata": {
    "execution": {
     "iopub.execute_input": "2022-03-21T09:55:20.995589Z",
     "iopub.status.busy": "2022-03-21T09:55:20.994372Z",
     "iopub.status.idle": "2022-03-21T09:55:20.997609Z",
     "shell.execute_reply": "2022-03-21T09:55:20.996911Z",
     "shell.execute_reply.started": "2022-03-21T08:47:31.787948Z"
    },
    "papermill": {
     "duration": 0.033308,
     "end_time": "2022-03-21T09:55:20.997796",
     "exception": false,
     "start_time": "2022-03-21T09:55:20.964488",
     "status": "completed"
    },
    "tags": []
   },
   "outputs": [],
   "source": [
    "DEBUG = False\n",
    "PATH_INPUT = r'../input/h-and-m-personalized-fashion-recommendations/'"
   ]
  },
  {
   "cell_type": "markdown",
   "id": "fd900507",
   "metadata": {
    "papermill": {
     "duration": 0.02381,
     "end_time": "2022-03-21T09:55:21.046448",
     "exception": false,
     "start_time": "2022-03-21T09:55:21.022638",
     "status": "completed"
    },
    "tags": []
   },
   "source": [
    "<a id='load'></a>\n",
    "\n",
    "---\n",
    "## 2. Load Data\n",
    "---\n",
    "\n",
    "[Back to Contents](#top)"
   ]
  },
  {
   "cell_type": "code",
   "execution_count": 3,
   "id": "aff176c0",
   "metadata": {
    "execution": {
     "iopub.execute_input": "2022-03-21T09:55:21.099273Z",
     "iopub.status.busy": "2022-03-21T09:55:21.098187Z",
     "iopub.status.idle": "2022-03-21T09:55:21.104103Z",
     "shell.execute_reply": "2022-03-21T09:55:21.103518Z",
     "shell.execute_reply.started": "2022-03-21T09:24:34.644140Z"
    },
    "papermill": {
     "duration": 0.033612,
     "end_time": "2022-03-21T09:55:21.104245",
     "exception": false,
     "start_time": "2022-03-21T09:55:21.070633",
     "status": "completed"
    },
    "tags": []
   },
   "outputs": [],
   "source": [
    "def display_df(df, head=3):\n",
    "    print(f'The shape of df is {df.shape}.\\n')\n",
    "    display(df.head(head))"
   ]
  },
  {
   "cell_type": "code",
   "execution_count": 4,
   "id": "be9d1a6e",
   "metadata": {
    "execution": {
     "iopub.execute_input": "2022-03-21T09:55:21.161837Z",
     "iopub.status.busy": "2022-03-21T09:55:21.161062Z",
     "iopub.status.idle": "2022-03-21T09:55:24.198532Z",
     "shell.execute_reply": "2022-03-21T09:55:24.199109Z",
     "shell.execute_reply.started": "2022-03-21T09:24:34.995576Z"
    },
    "papermill": {
     "duration": 3.070604,
     "end_time": "2022-03-21T09:55:24.199280",
     "exception": false,
     "start_time": "2022-03-21T09:55:21.128676",
     "status": "completed"
    },
    "tags": []
   },
   "outputs": [
    {
     "name": "stdout",
     "output_type": "stream",
     "text": [
      "The shape of df is (105542, 3).\n",
      "\n"
     ]
    },
    {
     "data": {
      "text/html": [
       "<div>\n",
       "<style scoped>\n",
       "    .dataframe tbody tr th:only-of-type {\n",
       "        vertical-align: middle;\n",
       "    }\n",
       "\n",
       "    .dataframe tbody tr th {\n",
       "        vertical-align: top;\n",
       "    }\n",
       "\n",
       "    .dataframe thead th {\n",
       "        text-align: right;\n",
       "    }\n",
       "</style>\n",
       "<table border=\"1\" class=\"dataframe\">\n",
       "  <thead>\n",
       "    <tr style=\"text-align: right;\">\n",
       "      <th></th>\n",
       "      <th>article_id</th>\n",
       "      <th>product_group_name</th>\n",
       "      <th>perceived_colour_master_name</th>\n",
       "    </tr>\n",
       "  </thead>\n",
       "  <tbody>\n",
       "    <tr>\n",
       "      <th>0</th>\n",
       "      <td>108775015</td>\n",
       "      <td>Garment Upper body</td>\n",
       "      <td>Black</td>\n",
       "    </tr>\n",
       "    <tr>\n",
       "      <th>1</th>\n",
       "      <td>108775044</td>\n",
       "      <td>Garment Upper body</td>\n",
       "      <td>White</td>\n",
       "    </tr>\n",
       "    <tr>\n",
       "      <th>2</th>\n",
       "      <td>108775051</td>\n",
       "      <td>Garment Upper body</td>\n",
       "      <td>White</td>\n",
       "    </tr>\n",
       "  </tbody>\n",
       "</table>\n",
       "</div>"
      ],
      "text/plain": [
       "   article_id  product_group_name perceived_colour_master_name\n",
       "0   108775015  Garment Upper body                        Black\n",
       "1   108775044  Garment Upper body                        White\n",
       "2   108775051  Garment Upper body                        White"
      ]
     },
     "metadata": {},
     "output_type": "display_data"
    }
   ],
   "source": [
    "dfArticles = cudf.read_csv(PATH_INPUT + 'articles.csv', usecols=['article_id', \"product_group_name\", \"perceived_colour_master_name\"])\n",
    "display_df(dfArticles, head=3)"
   ]
  },
  {
   "cell_type": "code",
   "execution_count": 5,
   "id": "7590271c",
   "metadata": {
    "execution": {
     "iopub.execute_input": "2022-03-21T09:55:24.257312Z",
     "iopub.status.busy": "2022-03-21T09:55:24.256415Z",
     "iopub.status.idle": "2022-03-21T09:55:26.942802Z",
     "shell.execute_reply": "2022-03-21T09:55:26.944176Z",
     "shell.execute_reply.started": "2022-03-21T09:24:35.458317Z"
    },
    "papermill": {
     "duration": 2.71885,
     "end_time": "2022-03-21T09:55:26.944418",
     "exception": false,
     "start_time": "2022-03-21T09:55:24.225568",
     "status": "completed"
    },
    "tags": []
   },
   "outputs": [
    {
     "name": "stdout",
     "output_type": "stream",
     "text": [
      "The shape of df is (1371980, 2).\n",
      "\n"
     ]
    },
    {
     "data": {
      "text/html": [
       "<div>\n",
       "<style scoped>\n",
       "    .dataframe tbody tr th:only-of-type {\n",
       "        vertical-align: middle;\n",
       "    }\n",
       "\n",
       "    .dataframe tbody tr th {\n",
       "        vertical-align: top;\n",
       "    }\n",
       "\n",
       "    .dataframe thead th {\n",
       "        text-align: right;\n",
       "    }\n",
       "</style>\n",
       "<table border=\"1\" class=\"dataframe\">\n",
       "  <thead>\n",
       "    <tr style=\"text-align: right;\">\n",
       "      <th></th>\n",
       "      <th>customer_id</th>\n",
       "      <th>age</th>\n",
       "    </tr>\n",
       "  </thead>\n",
       "  <tbody>\n",
       "    <tr>\n",
       "      <th>0</th>\n",
       "      <td>00000dbacae5abe5e23885899a1fa44253a17956c6d1c3...</td>\n",
       "      <td>49.0</td>\n",
       "    </tr>\n",
       "    <tr>\n",
       "      <th>1</th>\n",
       "      <td>0000423b00ade91418cceaf3b26c6af3dd342b51fd051e...</td>\n",
       "      <td>25.0</td>\n",
       "    </tr>\n",
       "    <tr>\n",
       "      <th>2</th>\n",
       "      <td>000058a12d5b43e67d225668fa1f8d618c13dc232df0ca...</td>\n",
       "      <td>24.0</td>\n",
       "    </tr>\n",
       "  </tbody>\n",
       "</table>\n",
       "</div>"
      ],
      "text/plain": [
       "                                         customer_id   age\n",
       "0  00000dbacae5abe5e23885899a1fa44253a17956c6d1c3...  49.0\n",
       "1  0000423b00ade91418cceaf3b26c6af3dd342b51fd051e...  25.0\n",
       "2  000058a12d5b43e67d225668fa1f8d618c13dc232df0ca...  24.0"
      ]
     },
     "metadata": {},
     "output_type": "display_data"
    }
   ],
   "source": [
    "dfCustomers = cudf.read_csv(PATH_INPUT + 'customers.csv', usecols=['customer_id', 'age'])\n",
    "display_df(dfCustomers, head=3)"
   ]
  },
  {
   "cell_type": "code",
   "execution_count": 6,
   "id": "afc6df27",
   "metadata": {
    "execution": {
     "iopub.execute_input": "2022-03-21T09:55:27.044969Z",
     "iopub.status.busy": "2022-03-21T09:55:27.043960Z",
     "iopub.status.idle": "2022-03-21T09:55:27.949958Z",
     "shell.execute_reply": "2022-03-21T09:55:27.949375Z",
     "shell.execute_reply.started": "2022-03-21T09:24:36.834857Z"
    },
    "papermill": {
     "duration": 0.959805,
     "end_time": "2022-03-21T09:55:27.950102",
     "exception": false,
     "start_time": "2022-03-21T09:55:26.990297",
     "status": "completed"
    },
    "tags": []
   },
   "outputs": [
    {
     "name": "stdout",
     "output_type": "stream",
     "text": [
      "The shape of df is (1371980, 3).\n",
      "\n"
     ]
    },
    {
     "data": {
      "text/html": [
       "<div>\n",
       "<style scoped>\n",
       "    .dataframe tbody tr th:only-of-type {\n",
       "        vertical-align: middle;\n",
       "    }\n",
       "\n",
       "    .dataframe tbody tr th {\n",
       "        vertical-align: top;\n",
       "    }\n",
       "\n",
       "    .dataframe thead th {\n",
       "        text-align: right;\n",
       "    }\n",
       "</style>\n",
       "<table border=\"1\" class=\"dataframe\">\n",
       "  <thead>\n",
       "    <tr style=\"text-align: right;\">\n",
       "      <th></th>\n",
       "      <th>customer_id</th>\n",
       "      <th>age</th>\n",
       "      <th>age_bins</th>\n",
       "    </tr>\n",
       "  </thead>\n",
       "  <tbody>\n",
       "    <tr>\n",
       "      <th>0</th>\n",
       "      <td>00000dbacae5abe5e23885899a1fa44253a17956c6d1c3...</td>\n",
       "      <td>49.0</td>\n",
       "      <td>(39, 49]</td>\n",
       "    </tr>\n",
       "    <tr>\n",
       "      <th>1</th>\n",
       "      <td>0000423b00ade91418cceaf3b26c6af3dd342b51fd051e...</td>\n",
       "      <td>25.0</td>\n",
       "      <td>(19, 29]</td>\n",
       "    </tr>\n",
       "    <tr>\n",
       "      <th>2</th>\n",
       "      <td>000058a12d5b43e67d225668fa1f8d618c13dc232df0ca...</td>\n",
       "      <td>24.0</td>\n",
       "      <td>(19, 29]</td>\n",
       "    </tr>\n",
       "  </tbody>\n",
       "</table>\n",
       "</div>"
      ],
      "text/plain": [
       "                                         customer_id   age  age_bins\n",
       "0  00000dbacae5abe5e23885899a1fa44253a17956c6d1c3...  49.0  (39, 49]\n",
       "1  0000423b00ade91418cceaf3b26c6af3dd342b51fd051e...  25.0  (19, 29]\n",
       "2  000058a12d5b43e67d225668fa1f8d618c13dc232df0ca...  24.0  (19, 29]"
      ]
     },
     "metadata": {},
     "output_type": "display_data"
    }
   ],
   "source": [
    "dfCustomers = dfCustomers.to_pandas()\n",
    "listBin = [-1, 19, 29, 39, 49, 59, 69, 119]\n",
    "dfCustomers['age_bins'] = pd.cut(dfCustomers['age'], listBin)\n",
    "display_df(dfCustomers, head=3)"
   ]
  },
  {
   "cell_type": "code",
   "execution_count": 7,
   "id": "4d27f777",
   "metadata": {
    "execution": {
     "iopub.execute_input": "2022-03-21T09:55:28.011087Z",
     "iopub.status.busy": "2022-03-21T09:55:28.010052Z",
     "iopub.status.idle": "2022-03-21T09:55:28.023420Z",
     "shell.execute_reply": "2022-03-21T09:55:28.024103Z",
     "shell.execute_reply.started": "2022-03-21T09:27:44.000974Z"
    },
    "papermill": {
     "duration": 0.046929,
     "end_time": "2022-03-21T09:55:28.024302",
     "exception": false,
     "start_time": "2022-03-21T09:55:27.977373",
     "status": "completed"
    },
    "tags": []
   },
   "outputs": [
    {
     "name": "stdout",
     "output_type": "stream",
     "text": [
      "15861 customer_id do not have age information.\n",
      "\n"
     ]
    }
   ],
   "source": [
    "x = dfCustomers[dfCustomers['age_bins'].isnull()].shape[0]\n",
    "print(f'{x} customer_id do not have age information.\\n')"
   ]
  },
  {
   "cell_type": "code",
   "execution_count": 8,
   "id": "725ade23",
   "metadata": {
    "execution": {
     "iopub.execute_input": "2022-03-21T09:55:28.089048Z",
     "iopub.status.busy": "2022-03-21T09:55:28.088181Z",
     "iopub.status.idle": "2022-03-21T09:56:05.977184Z",
     "shell.execute_reply": "2022-03-21T09:56:05.976257Z",
     "shell.execute_reply.started": "2022-03-21T09:23:48.370906Z"
    },
    "papermill": {
     "duration": 37.923955,
     "end_time": "2022-03-21T09:56:05.977394",
     "exception": false,
     "start_time": "2022-03-21T09:55:28.053439",
     "status": "completed"
    },
    "tags": []
   },
   "outputs": [
    {
     "name": "stdout",
     "output_type": "stream",
     "text": [
      "The shape of df is (31788324, 2).\n",
      "\n"
     ]
    },
    {
     "data": {
      "text/html": [
       "<div>\n",
       "<style scoped>\n",
       "    .dataframe tbody tr th:only-of-type {\n",
       "        vertical-align: middle;\n",
       "    }\n",
       "\n",
       "    .dataframe tbody tr th {\n",
       "        vertical-align: top;\n",
       "    }\n",
       "\n",
       "    .dataframe thead th {\n",
       "        text-align: right;\n",
       "    }\n",
       "</style>\n",
       "<table border=\"1\" class=\"dataframe\">\n",
       "  <thead>\n",
       "    <tr style=\"text-align: right;\">\n",
       "      <th></th>\n",
       "      <th>customer_id</th>\n",
       "      <th>article_id</th>\n",
       "    </tr>\n",
       "    <tr>\n",
       "      <th>t_dat</th>\n",
       "      <th></th>\n",
       "      <th></th>\n",
       "    </tr>\n",
       "  </thead>\n",
       "  <tbody>\n",
       "    <tr>\n",
       "      <th>2018-09-20</th>\n",
       "      <td>000058a12d5b43e67d225668fa1f8d618c13dc232df0ca...</td>\n",
       "      <td>663713001</td>\n",
       "    </tr>\n",
       "    <tr>\n",
       "      <th>2018-09-20</th>\n",
       "      <td>000058a12d5b43e67d225668fa1f8d618c13dc232df0ca...</td>\n",
       "      <td>541518023</td>\n",
       "    </tr>\n",
       "    <tr>\n",
       "      <th>2018-09-20</th>\n",
       "      <td>00007d2de826758b65a93dd24ce629ed66842531df6699...</td>\n",
       "      <td>505221004</td>\n",
       "    </tr>\n",
       "  </tbody>\n",
       "</table>\n",
       "</div>"
      ],
      "text/plain": [
       "                                                  customer_id  article_id\n",
       "t_dat                                                                    \n",
       "2018-09-20  000058a12d5b43e67d225668fa1f8d618c13dc232df0ca...   663713001\n",
       "2018-09-20  000058a12d5b43e67d225668fa1f8d618c13dc232df0ca...   541518023\n",
       "2018-09-20  00007d2de826758b65a93dd24ce629ed66842531df6699...   505221004"
      ]
     },
     "metadata": {},
     "output_type": "display_data"
    }
   ],
   "source": [
    "dfTransactions = cudf.read_csv(PATH_INPUT + 'transactions_train.csv',  \n",
    "                               usecols=['t_dat', 'customer_id', 'article_id'],\n",
    "                               dtype={'article_id': 'int32', 't_dat': 'string', 'customer_id': 'string'})\n",
    "dfTransactions['t_dat'] = cudf.to_datetime(dfTransactions['t_dat'])\n",
    "dfTransactions.set_index('t_dat', inplace=True)\n",
    "display_df(dfTransactions, head=3)"
   ]
  },
  {
   "cell_type": "markdown",
   "id": "ae75c581",
   "metadata": {
    "papermill": {
     "duration": 0.029414,
     "end_time": "2022-03-21T09:56:06.037575",
     "exception": false,
     "start_time": "2022-03-21T09:56:06.008161",
     "status": "completed"
    },
    "tags": []
   },
   "source": [
    "<a id='eda'></a>\n",
    "\n",
    "---\n",
    "## 3. EDA of recent popular articles of each ages\n",
    "\n",
    "- Check the latest popular articles in each ages btw. 2020-09-01 and 2020-09-21.\n",
    "- Compare that whether is there any difference btw. ages.\n",
    "\n",
    "---\n",
    "\n",
    "[Back to Contents](#top)"
   ]
  },
  {
   "cell_type": "code",
   "execution_count": 9,
   "id": "b6b7d4e6",
   "metadata": {
    "execution": {
     "iopub.execute_input": "2022-03-21T09:56:06.103899Z",
     "iopub.status.busy": "2022-03-21T09:56:06.103190Z",
     "iopub.status.idle": "2022-03-21T09:56:07.271960Z",
     "shell.execute_reply": "2022-03-21T09:56:07.272488Z",
     "shell.execute_reply.started": "2022-03-21T08:48:13.935031Z"
    },
    "papermill": {
     "duration": 1.20464,
     "end_time": "2022-03-21T09:56:07.272695",
     "exception": false,
     "start_time": "2022-03-21T09:56:06.068055",
     "status": "completed"
    },
    "tags": []
   },
   "outputs": [
    {
     "name": "stdout",
     "output_type": "stream",
     "text": [
      "The shape of df is (765403, 2).\n",
      "\n"
     ]
    },
    {
     "data": {
      "text/html": [
       "<div>\n",
       "<style scoped>\n",
       "    .dataframe tbody tr th:only-of-type {\n",
       "        vertical-align: middle;\n",
       "    }\n",
       "\n",
       "    .dataframe tbody tr th {\n",
       "        vertical-align: top;\n",
       "    }\n",
       "\n",
       "    .dataframe thead th {\n",
       "        text-align: right;\n",
       "    }\n",
       "</style>\n",
       "<table border=\"1\" class=\"dataframe\">\n",
       "  <thead>\n",
       "    <tr style=\"text-align: right;\">\n",
       "      <th></th>\n",
       "      <th>customer_id</th>\n",
       "      <th>article_id</th>\n",
       "    </tr>\n",
       "    <tr>\n",
       "      <th>t_dat</th>\n",
       "      <th></th>\n",
       "      <th></th>\n",
       "    </tr>\n",
       "  </thead>\n",
       "  <tbody>\n",
       "    <tr>\n",
       "      <th>2020-09-01</th>\n",
       "      <td>0001d44dbe7f6c4b35200abdb052c77a87596fe1bdcc37...</td>\n",
       "      <td>777148006</td>\n",
       "    </tr>\n",
       "    <tr>\n",
       "      <th>2020-09-01</th>\n",
       "      <td>0001d44dbe7f6c4b35200abdb052c77a87596fe1bdcc37...</td>\n",
       "      <td>835801001</td>\n",
       "    </tr>\n",
       "    <tr>\n",
       "      <th>2020-09-01</th>\n",
       "      <td>0001d44dbe7f6c4b35200abdb052c77a87596fe1bdcc37...</td>\n",
       "      <td>923134005</td>\n",
       "    </tr>\n",
       "  </tbody>\n",
       "</table>\n",
       "</div>"
      ],
      "text/plain": [
       "                                                  customer_id  article_id\n",
       "t_dat                                                                    \n",
       "2020-09-01  0001d44dbe7f6c4b35200abdb052c77a87596fe1bdcc37...   777148006\n",
       "2020-09-01  0001d44dbe7f6c4b35200abdb052c77a87596fe1bdcc37...   835801001\n",
       "2020-09-01  0001d44dbe7f6c4b35200abdb052c77a87596fe1bdcc37...   923134005"
      ]
     },
     "metadata": {},
     "output_type": "display_data"
    }
   ],
   "source": [
    "dfRecent = dfTransactions.loc['2020-09-01' : '2020-09-21']\n",
    "display_df(dfRecent, head=3)"
   ]
  },
  {
   "cell_type": "code",
   "execution_count": 10,
   "id": "d0ab4a33",
   "metadata": {
    "execution": {
     "iopub.execute_input": "2022-03-21T09:56:07.340897Z",
     "iopub.status.busy": "2022-03-21T09:56:07.339689Z",
     "iopub.status.idle": "2022-03-21T09:56:08.657237Z",
     "shell.execute_reply": "2022-03-21T09:56:08.658121Z",
     "shell.execute_reply.started": "2022-03-21T08:48:14.924883Z"
    },
    "papermill": {
     "duration": 1.355246,
     "end_time": "2022-03-21T09:56:08.658356",
     "exception": false,
     "start_time": "2022-03-21T09:56:07.303110",
     "status": "completed"
    },
    "tags": []
   },
   "outputs": [
    {
     "name": "stdout",
     "output_type": "stream",
     "text": [
      "The shape of df is (765403, 3).\n",
      "\n"
     ]
    },
    {
     "data": {
      "text/html": [
       "<div>\n",
       "<style scoped>\n",
       "    .dataframe tbody tr th:only-of-type {\n",
       "        vertical-align: middle;\n",
       "    }\n",
       "\n",
       "    .dataframe tbody tr th {\n",
       "        vertical-align: top;\n",
       "    }\n",
       "\n",
       "    .dataframe thead th {\n",
       "        text-align: right;\n",
       "    }\n",
       "</style>\n",
       "<table border=\"1\" class=\"dataframe\">\n",
       "  <thead>\n",
       "    <tr style=\"text-align: right;\">\n",
       "      <th></th>\n",
       "      <th>customer_id</th>\n",
       "      <th>article_id</th>\n",
       "      <th>age_bins</th>\n",
       "    </tr>\n",
       "  </thead>\n",
       "  <tbody>\n",
       "    <tr>\n",
       "      <th>0</th>\n",
       "      <td>0001d44dbe7f6c4b35200abdb052c77a87596fe1bdcc37...</td>\n",
       "      <td>777148006</td>\n",
       "      <td>(39, 49]</td>\n",
       "    </tr>\n",
       "    <tr>\n",
       "      <th>1</th>\n",
       "      <td>0001d44dbe7f6c4b35200abdb052c77a87596fe1bdcc37...</td>\n",
       "      <td>835801001</td>\n",
       "      <td>(39, 49]</td>\n",
       "    </tr>\n",
       "    <tr>\n",
       "      <th>2</th>\n",
       "      <td>0001d44dbe7f6c4b35200abdb052c77a87596fe1bdcc37...</td>\n",
       "      <td>923134005</td>\n",
       "      <td>(39, 49]</td>\n",
       "    </tr>\n",
       "  </tbody>\n",
       "</table>\n",
       "</div>"
      ],
      "text/plain": [
       "                                         customer_id  article_id  age_bins\n",
       "0  0001d44dbe7f6c4b35200abdb052c77a87596fe1bdcc37...   777148006  (39, 49]\n",
       "1  0001d44dbe7f6c4b35200abdb052c77a87596fe1bdcc37...   835801001  (39, 49]\n",
       "2  0001d44dbe7f6c4b35200abdb052c77a87596fe1bdcc37...   923134005  (39, 49]"
      ]
     },
     "metadata": {},
     "output_type": "display_data"
    }
   ],
   "source": [
    "dfRecent = dfRecent.to_pandas()\n",
    "dfRecent = dfRecent.merge(dfCustomers[['customer_id', 'age_bins']], on='customer_id', how='inner')\n",
    "display_df(dfRecent, head=3)"
   ]
  },
  {
   "cell_type": "code",
   "execution_count": 11,
   "id": "289c705a",
   "metadata": {
    "execution": {
     "iopub.execute_input": "2022-03-21T09:56:08.737236Z",
     "iopub.status.busy": "2022-03-21T09:56:08.736044Z",
     "iopub.status.idle": "2022-03-21T09:56:11.009725Z",
     "shell.execute_reply": "2022-03-21T09:56:11.011173Z",
     "shell.execute_reply.started": "2022-03-21T08:48:15.902685Z"
    },
    "papermill": {
     "duration": 2.317498,
     "end_time": "2022-03-21T09:56:11.011434",
     "exception": false,
     "start_time": "2022-03-21T09:56:08.693936",
     "status": "completed"
    },
    "tags": []
   },
   "outputs": [],
   "source": [
    "dfRecent = dfRecent.groupby(['age_bins', 'article_id']).count().reset_index().rename(columns={'customer_id': 'counts'})\n",
    "\n",
    "listUniBins = dfRecent['age_bins'].unique().tolist()\n",
    "\n",
    "dict100 = {}\n",
    "for uniBin in listUniBins:\n",
    "    dfTemp = dfRecent[dfRecent['age_bins'] == uniBin]\n",
    "    dfTemp = dfTemp.sort_values(by='counts', ascending=False)\n",
    "    dict100[uniBin] = dfTemp.head(100)['article_id'].values.tolist()\n",
    "\n",
    "df100 = pd.DataFrame([dict100]).T.rename(columns={0:'top100'})"
   ]
  },
  {
   "cell_type": "code",
   "execution_count": 12,
   "id": "a877e962",
   "metadata": {
    "execution": {
     "iopub.execute_input": "2022-03-21T09:56:11.144994Z",
     "iopub.status.busy": "2022-03-21T09:56:11.142275Z",
     "iopub.status.idle": "2022-03-21T09:56:11.731064Z",
     "shell.execute_reply": "2022-03-21T09:56:11.731597Z",
     "shell.execute_reply.started": "2022-03-21T08:48:18.434056Z"
    },
    "papermill": {
     "duration": 0.662786,
     "end_time": "2022-03-21T09:56:11.731790",
     "exception": false,
     "start_time": "2022-03-21T09:56:11.069004",
     "status": "completed"
    },
    "tags": []
   },
   "outputs": [
    {
     "data": {
      "text/plain": [
       "<AxesSubplot:>"
      ]
     },
     "execution_count": 12,
     "metadata": {},
     "output_type": "execute_result"
    },
    {
     "data": {
      "image/png": "[encoded data removed]",
      "text/plain": [
       "<Figure size 720x432 with 1 Axes>"
      ]
     },
     "metadata": {},
     "output_type": "display_data"
    }
   ],
   "source": [
    "for index in df100.index:\n",
    "    df100[index] = [len(set(df100.at[index, 'top100']) & set(df100.at[x, 'top100']))/100 for x in df100.index]\n",
    "\n",
    "df100 = df100.drop(columns='top100')\n",
    "plt.figure(figsize=(10, 6))\n",
    "sns.heatmap(df100, annot=True, cbar=False)"
   ]
  },
  {
   "cell_type": "markdown",
   "id": "5806ab56",
   "metadata": {
    "papermill": {
     "duration": 0.033313,
     "end_time": "2022-03-21T09:56:11.798403",
     "exception": false,
     "start_time": "2022-03-21T09:56:11.765090",
     "status": "completed"
    },
    "tags": []
   },
   "source": [
    "- The most smilar age is (49, 59] & (59, 69], 0.68.\n",
    "- The most NOT similar age is (-1, 19] & (69, 119], 0.09.\n",
    "- Based on [EDA](https://www.kaggle.com/hechtjp/eda-based-on-timeseries), (19, 29] is the most common customer's age and the most similar age for that is (29, 39], 0.59.\n",
    "- At least 30% difference in top 100 articles of each ages and predictions for each ages separately would be better than one prediction for all."
   ]
  },
  {
   "cell_type": "markdown",
   "id": "165f72e9",
   "metadata": {
    "papermill": {
     "duration": 0.033059,
     "end_time": "2022-03-21T09:56:11.865338",
     "exception": false,
     "start_time": "2022-03-21T09:56:11.832279",
     "status": "completed"
    },
    "tags": []
   },
   "source": [
    "<a id='pred'></a>\n",
    "\n",
    "---\n",
    "## 4. Prediction\n",
    "\n",
    "- Predict articles for each age and save the results as csv file separately.\n",
    "- Prediction is done by the rule base learned from the notebook [H&M: Faster Trending Products Weekly by Mr. HERVIND PHILIPE](https://www.kaggle.com/code/hervind/h-m-faster-trending-products-weekly/notebook). (Please check and upvote it.)\n",
    "\n",
    "---\n",
    "\n",
    "[Back to Contents](#top)"
   ]
  },
  {
   "cell_type": "code",
   "execution_count": 13,
   "id": "8e2fa010",
   "metadata": {
    "execution": {
     "iopub.execute_input": "2022-03-21T09:56:11.938742Z",
     "iopub.status.busy": "2022-03-21T09:56:11.937855Z",
     "iopub.status.idle": "2022-03-21T09:56:11.950088Z",
     "shell.execute_reply": "2022-03-21T09:56:11.949417Z",
     "shell.execute_reply.started": "2022-03-21T09:29:32.520748Z"
    },
    "papermill": {
     "duration": 0.051371,
     "end_time": "2022-03-21T09:56:11.950221",
     "exception": false,
     "start_time": "2022-03-21T09:56:11.898850",
     "status": "completed"
    },
    "tags": []
   },
   "outputs": [],
   "source": [
    "N = 12\n",
    "listUniBins = dfCustomers['age_bins'].unique().tolist()"
   ]
  },
  {
   "cell_type": "code",
   "execution_count": 14,
   "id": "e08557dd",
   "metadata": {
    "execution": {
     "iopub.execute_input": "2022-03-21T09:56:12.048117Z",
     "iopub.status.busy": "2022-03-21T09:56:12.040977Z",
     "iopub.status.idle": "2022-03-21T09:57:21.154417Z",
     "shell.execute_reply": "2022-03-21T09:57:21.155123Z",
     "shell.execute_reply.started": "2022-03-21T09:39:08.513229Z"
    },
    "papermill": {
     "duration": 69.171759,
     "end_time": "2022-03-21T09:57:21.155338",
     "exception": false,
     "start_time": "2022-03-21T09:56:11.983579",
     "status": "completed"
    },
    "tags": []
   },
   "outputs": [
    {
     "name": "stdout",
     "output_type": "stream",
     "text": [
      "The shape of scope transaction for (39.0, 49.0] is (4908363, 4). \n",
      "\n",
      "Saved prediction for (39.0, 49.0]. The shape is (204118, 2). \n",
      "\n",
      "--------------------------------------------------\n",
      "The shape of scope transaction for (19.0, 29.0] is (13058587, 4). \n",
      "\n",
      "Saved prediction for (19.0, 29.0]. The shape is (528358, 2). \n",
      "\n",
      "--------------------------------------------------\n",
      "The shape of scope transaction for (49.0, 59.0] is (5136958, 4). \n",
      "\n",
      "Saved prediction for (49.0, 59.0]. The shape is (226242, 2). \n",
      "\n",
      "--------------------------------------------------\n",
      "The shape of scope transaction for nan is (140258, 4). \n",
      "\n",
      "Saved prediction for nan. The shape is (15861, 2). \n",
      "\n",
      "--------------------------------------------------\n",
      "The shape of scope transaction for (29.0, 39.0] is (6428863, 4). \n",
      "\n",
      "Saved prediction for (29.0, 39.0]. The shape is (234068, 2). \n",
      "\n",
      "--------------------------------------------------\n",
      "The shape of scope transaction for (69.0, 119.0] is (220067, 4). \n",
      "\n",
      "Saved prediction for (69.0, 119.0]. The shape is (19127, 2). \n",
      "\n",
      "--------------------------------------------------\n",
      "The shape of scope transaction for (59.0, 69.0] is (1203826, 4). \n",
      "\n",
      "Saved prediction for (59.0, 69.0]. The shape is (72623, 2). \n",
      "\n",
      "--------------------------------------------------\n",
      "The shape of scope transaction for (-1.0, 19.0] is (691402, 4). \n",
      "\n",
      "Saved prediction for (-1.0, 19.0]. The shape is (71583, 2). \n",
      "\n",
      "--------------------------------------------------\n",
      "Finished.\n",
      "\n",
      "==================================================\n"
     ]
    }
   ],
   "source": [
    "for uniBin in listUniBins:\n",
    "    df  = cudf.read_csv('../input/h-and-m-personalized-fashion-recommendations/transactions_train.csv',\n",
    "                            usecols= ['t_dat', 'customer_id', 'article_id'], \n",
    "                            dtype={'article_id': 'int32', 't_dat': 'string', 'customer_id': 'string'})\n",
    "    if str(uniBin) == 'nan':\n",
    "        dfCustomersTemp = dfCustomers[dfCustomers['age_bins'].isnull()]\n",
    "    else:\n",
    "        dfCustomersTemp = dfCustomers[dfCustomers['age_bins'] == uniBin]\n",
    "    \n",
    "    dfCustomersTemp = dfCustomersTemp.drop(['age_bins'], axis=1)\n",
    "    dfCustomersTemp = cudf.from_pandas(dfCustomersTemp)\n",
    "    \n",
    "    df = df.merge(dfCustomersTemp[['customer_id', 'age']], on='customer_id', how='inner')\n",
    "    print(f'The shape of scope transaction for {uniBin} is {df.shape}. \\n')\n",
    "          \n",
    "    df ['customer_id'] = df ['customer_id'].str[-16:].str.hex_to_int().astype('int64')\n",
    "    df['t_dat'] = cudf.to_datetime(df['t_dat'])\n",
    "    last_ts = df['t_dat'].max()\n",
    "\n",
    "    tmp = df[['t_dat']].copy().to_pandas()\n",
    "    tmp['dow'] = tmp['t_dat'].dt.dayofweek\n",
    "    tmp['ldbw'] = tmp['t_dat'] - pd.TimedeltaIndex(tmp['dow'] - 1, unit='D')\n",
    "    tmp.loc[tmp['dow'] >=2 , 'ldbw'] = tmp.loc[tmp['dow'] >=2 , 'ldbw'] + pd.TimedeltaIndex(np.ones(len(tmp.loc[tmp['dow'] >=2])) * 7, unit='D')\n",
    "\n",
    "    df['ldbw'] = tmp['ldbw'].values\n",
    "    \n",
    "    weekly_sales = df.drop('customer_id', axis=1).groupby(['ldbw', 'article_id']).count().reset_index()\n",
    "    weekly_sales = weekly_sales.rename(columns={'t_dat': 'count'})\n",
    "    \n",
    "    df = df.merge(weekly_sales, on=['ldbw', 'article_id'], how = 'left')\n",
    "    \n",
    "    weekly_sales = weekly_sales.reset_index().set_index('article_id')\n",
    "\n",
    "    df = df.merge(\n",
    "        weekly_sales.loc[weekly_sales['ldbw']==last_ts, ['count']],\n",
    "        on='article_id', suffixes=(\"\", \"_targ\"))\n",
    "\n",
    "    df['count_targ'].fillna(0, inplace=True)\n",
    "    del weekly_sales\n",
    "    \n",
    "    df['quotient'] = df['count_targ'] / df['count']\n",
    "    \n",
    "    target_sales = df.drop('customer_id', axis=1).groupby('article_id')['quotient'].sum()\n",
    "    general_pred = target_sales.nlargest(N).index.to_pandas().tolist()\n",
    "    general_pred = ['0' + str(article_id) for article_id in general_pred]\n",
    "    general_pred_str =  ' '.join(general_pred)\n",
    "    del target_sales\n",
    "    \n",
    "    purchase_dict = {}\n",
    "\n",
    "    tmp = df.copy().to_pandas()\n",
    "    tmp['x'] = ((last_ts - tmp['t_dat']) / np.timedelta64(1, 'D')).astype(int)\n",
    "    tmp['dummy_1'] = 1 \n",
    "    tmp['x'] = tmp[[\"x\", \"dummy_1\"]].max(axis=1)\n",
    "\n",
    "    a, b, c, d = 2.5e4, 1.5e5, 2e-1, 1e3\n",
    "    tmp['y'] = a / np.sqrt(tmp['x']) + b * np.exp(-c*tmp['x']) - d\n",
    "\n",
    "    tmp['dummy_0'] = 0 \n",
    "    tmp['y'] = tmp[[\"y\", \"dummy_0\"]].max(axis=1)\n",
    "    tmp['value'] = tmp['quotient'] * tmp['y'] \n",
    "\n",
    "    tmp = tmp.groupby(['customer_id', 'article_id']).agg({'value': 'sum'})\n",
    "    tmp = tmp.reset_index()\n",
    "\n",
    "    tmp = tmp.loc[tmp['value'] > 0]\n",
    "    tmp['rank'] = tmp.groupby(\"customer_id\")[\"value\"].rank(\"dense\", ascending=False)\n",
    "    tmp = tmp.loc[tmp['rank'] <= 12]\n",
    "\n",
    "    purchase_df = tmp.sort_values(['customer_id', 'value'], ascending = False).reset_index(drop = True)\n",
    "    purchase_df['prediction'] = '0' + purchase_df['article_id'].astype(str) + ' '\n",
    "    purchase_df = purchase_df.groupby('customer_id').agg({'prediction': sum}).reset_index()\n",
    "    purchase_df['prediction'] = purchase_df['prediction'].str.strip()\n",
    "    purchase_df = cudf.DataFrame(purchase_df)\n",
    "    \n",
    "    sub  = cudf.read_csv('../input/h-and-m-personalized-fashion-recommendations/sample_submission.csv',\n",
    "                            usecols= ['customer_id'], \n",
    "                            dtype={'customer_id': 'string'})\n",
    "    \n",
    "    numCustomers = sub.shape[0]\n",
    "    \n",
    "    sub = sub.merge(dfCustomersTemp[['customer_id', 'age']], on='customer_id', how='inner')\n",
    "\n",
    "    sub['customer_id2'] = sub['customer_id'].str[-16:].str.hex_to_int().astype('int64')\n",
    "\n",
    "    sub = sub.merge(purchase_df, left_on = 'customer_id2', right_on = 'customer_id', how = 'left',\n",
    "                   suffixes = ('', '_ignored'))\n",
    "\n",
    "    sub = sub.to_pandas()\n",
    "    sub['prediction'] = sub['prediction'].fillna(general_pred_str)\n",
    "    sub['prediction'] = sub['prediction'] + ' ' +  general_pred_str\n",
    "    sub['prediction'] = sub['prediction'].str.strip()\n",
    "    sub['prediction'] = sub['prediction'].str[:131]\n",
    "    sub = sub[['customer_id', 'prediction']]\n",
    "    sub.to_csv(f'submission_' + str(uniBin) + '.csv',index=False)\n",
    "    print(f'Saved prediction for {uniBin}. The shape is {sub.shape}. \\n')\n",
    "    print('-'*50)\n",
    "print('Finished.\\n')\n",
    "print('='*50)"
   ]
  },
  {
   "cell_type": "markdown",
   "id": "f5af5e52",
   "metadata": {
    "papermill": {
     "duration": 0.039072,
     "end_time": "2022-03-21T09:57:21.233562",
     "exception": false,
     "start_time": "2022-03-21T09:57:21.194490",
     "status": "completed"
    },
    "tags": []
   },
   "source": [
    "<a id='sub'></a>\n",
    "\n",
    "---\n",
    "## 5. Submission\n",
    "\n",
    "- Load the saved prediction csv files and concatenate them in one dataframe.\n",
    "- Save it as submission.csv.\n",
    "\n",
    "---\n",
    "\n",
    "[Back to Contents](#top)"
   ]
  },
  {
   "cell_type": "code",
   "execution_count": 15,
   "id": "f480034f",
   "metadata": {
    "execution": {
     "iopub.execute_input": "2022-03-21T09:57:21.323890Z",
     "iopub.status.busy": "2022-03-21T09:57:21.322658Z",
     "iopub.status.idle": "2022-03-21T09:57:22.497131Z",
     "shell.execute_reply": "2022-03-21T09:57:22.497831Z",
     "shell.execute_reply.started": "2022-03-21T09:41:12.595856Z"
    },
    "papermill": {
     "duration": 1.223082,
     "end_time": "2022-03-21T09:57:22.498002",
     "exception": false,
     "start_time": "2022-03-21T09:57:21.274920",
     "status": "completed"
    },
    "tags": []
   },
   "outputs": [
    {
     "name": "stdout",
     "output_type": "stream",
     "text": [
      "Saved submission.csv.\n"
     ]
    }
   ],
   "source": [
    "for i, uniBin in enumerate(listUniBins):\n",
    "    dfTemp  = cudf.read_csv(f'submission_' + str(uniBin) + '.csv')\n",
    "    if i == 0:\n",
    "        dfSub = dfTemp\n",
    "    else:\n",
    "        dfSub = cudf.concat([dfSub, dfTemp], axis=0)\n",
    "\n",
    "assert dfSub.shape[0] == numCustomers, f'The number of dfSub rows is not correct. {dfSub.shape[0]} vs {numCustomers}.'\n",
    "\n",
    "dfSub.to_csv(f'submission.csv', index=False)\n",
    "print(f'Saved submission.csv.')"
   ]
  },
  {
   "cell_type": "code",
   "execution_count": 16,
   "id": "55f9a569",
   "metadata": {
    "execution": {
     "iopub.execute_input": "2022-03-21T09:57:22.587647Z",
     "iopub.status.busy": "2022-03-21T09:57:22.586607Z",
     "iopub.status.idle": "2022-03-21T09:57:22.785675Z",
     "shell.execute_reply": "2022-03-21T09:57:22.786510Z",
     "shell.execute_reply.started": "2022-03-21T09:41:17.626123Z"
    },
    "papermill": {
     "duration": 0.248157,
     "end_time": "2022-03-21T09:57:22.786781",
     "exception": false,
     "start_time": "2022-03-21T09:57:22.538624",
     "status": "completed"
    },
    "tags": []
   },
   "outputs": [
    {
     "name": "stdout",
     "output_type": "stream",
     "text": [
      "The shape of df is (1371980, 2).\n",
      "\n"
     ]
    },
    {
     "data": {
      "text/html": [
       "<div>\n",
       "<style scoped>\n",
       "    .dataframe tbody tr th:only-of-type {\n",
       "        vertical-align: middle;\n",
       "    }\n",
       "\n",
       "    .dataframe tbody tr th {\n",
       "        vertical-align: top;\n",
       "    }\n",
       "\n",
       "    .dataframe thead th {\n",
       "        text-align: right;\n",
       "    }\n",
       "</style>\n",
       "<table border=\"1\" class=\"dataframe\">\n",
       "  <thead>\n",
       "    <tr style=\"text-align: right;\">\n",
       "      <th></th>\n",
       "      <th>customer_id</th>\n",
       "      <th>prediction</th>\n",
       "    </tr>\n",
       "  </thead>\n",
       "  <tbody>\n",
       "    <tr>\n",
       "      <th>0</th>\n",
       "      <td>2970df42f8d0c5feb4755452e2abeadf54839adf2c1e91...</td>\n",
       "      <td>0837283001 0818397001 0373506001 0179123001 07...</td>\n",
       "    </tr>\n",
       "    <tr>\n",
       "      <th>1</th>\n",
       "      <td>290655cdef03b9f6f2cc92499f9883648543a62a95af25...</td>\n",
       "      <td>0785018003 0781758001 0918591001 0695632107 08...</td>\n",
       "    </tr>\n",
       "    <tr>\n",
       "      <th>2</th>\n",
       "      <td>284f57474732a822d814c276a354ac2fc1ca92b6ac0819...</td>\n",
       "      <td>0804996007 0730683050 0805011013 0599718001 07...</td>\n",
       "    </tr>\n",
       "  </tbody>\n",
       "</table>\n",
       "</div>"
      ],
      "text/plain": [
       "                                         customer_id  \\\n",
       "0  2970df42f8d0c5feb4755452e2abeadf54839adf2c1e91...   \n",
       "1  290655cdef03b9f6f2cc92499f9883648543a62a95af25...   \n",
       "2  284f57474732a822d814c276a354ac2fc1ca92b6ac0819...   \n",
       "\n",
       "                                          prediction  \n",
       "0  0837283001 0818397001 0373506001 0179123001 07...  \n",
       "1  0785018003 0781758001 0918591001 0695632107 08...  \n",
       "2  0804996007 0730683050 0805011013 0599718001 07...  "
      ]
     },
     "metadata": {},
     "output_type": "display_data"
    }
   ],
   "source": [
    "dfCheck = cudf.read_csv('./submission.csv')\n",
    "display_df(dfCheck, head=3)"
   ]
  },
  {
   "cell_type": "markdown",
   "id": "ea65f969",
   "metadata": {
    "papermill": {
     "duration": 0.042246,
     "end_time": "2022-03-21T09:57:22.872630",
     "exception": false,
     "start_time": "2022-03-21T09:57:22.830384",
     "status": "completed"
    },
    "tags": []
   },
   "source": [
    "<a id='conclution'></a>\n",
    "\n",
    "---\n",
    "\n",
    "## 6. Conclution\n",
    "\n",
    "Thank you for your reading through this Notebook!\n",
    "\n",
    "If you think this notebook is interesting for you, please do click upvote :)\n",
    "\n",
    "---\n",
    "\n",
    "[Back to Contents](#top)"
   ]
  },
  {
   "cell_type": "markdown",
   "id": "0cde2381",
   "metadata": {
    "papermill": {
     "duration": 0.041917,
     "end_time": "2022-03-21T09:57:22.956875",
     "exception": false,
     "start_time": "2022-03-21T09:57:22.914958",
     "status": "completed"
    },
    "tags": []
   },
   "source": [
    "<a id='ref'></a>\n",
    "\n",
    "---\n",
    "## 7. Reference\n",
    "\n",
    "1.  [H&M: Faster Trending Products Weekly by Mr. HERVIND PHILIPE](https://www.kaggle.com/code/hervind/h-m-faster-trending-products-weekly/notebook)\n",
    "\n",
    "---\n",
    "\n",
    "[Back to Contents](#top)"
   ]
  }
 ],
 "metadata": {
  "kernelspec": {
   "display_name": "Python 3",
   "language": "python",
   "name": "python3"
  },
  "language_info": {
   "codemirror_mode": {
    "name": "ipython",
    "version": 3
   },
   "file_extension": ".py",
   "mimetype": "text/x-python",
   "name": "python",
   "nbconvert_exporter": "python",
   "pygments_lexer": "ipython3",
   "version": "3.7.12"
  },
  "papermill": {
   "default_parameters": {},
   "duration": 138.919512,
   "end_time": "2022-03-21T09:57:24.613891",
   "environment_variables": {},
   "exception": null,
   "input_path": "__notebook__.ipynb",
   "output_path": "__notebook__.ipynb",
   "parameters": {},
   "start_time": "2022-03-21T09:55:05.694379",
   "version": "2.3.3"
  }
 },
 "nbformat": 4,
 "nbformat_minor": 5
}
